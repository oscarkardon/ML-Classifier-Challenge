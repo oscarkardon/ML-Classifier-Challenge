{
  "nbformat": 4,
  "nbformat_minor": 0,
  "metadata": {
    "colab": {
      "provenance": []
    },
    "kernelspec": {
      "name": "python3",
      "display_name": "Python 3"
    },
    "language_info": {
      "name": "python"
    }
  },
  "cells": [
    {
      "cell_type": "markdown",
      "source": [
        "# Project 2\n",
        "## Oscar Kardon\n",
        "## Top 3 Model between the two class sections\n",
        "## 4/7/2024\n"
      ],
      "metadata": {
        "id": "ayplWX0Bm_vt"
      }
    },
    {
      "cell_type": "code",
      "execution_count": null,
      "metadata": {
        "colab": {
          "base_uri": "https://localhost:8080/",
          "height": 206
        },
        "id": "btsykrznm5V6",
        "outputId": "f6fd3e47-064d-4c89-a542-033c6fb58b1e"
      },
      "outputs": [
        {
          "output_type": "execute_result",
          "data": {
            "text/plain": [
              "       ID                              Name Pronoun    Birthday  Weight  \\\n",
              "0  100001  Ernest Sayer - software engineer      he  1971-09-09  176.35   \n",
              "1  100002          Joseph Polston - teacher    they  1998-06-25  194.64   \n",
              "2  100003        Phillip Rivers - scientist      he  1956-05-20  195.02   \n",
              "3  100004         Clara Harrill - physician     she  2004-08-22  153.16   \n",
              "4  100005           Mary Wilson - physician     she  1936-05-09  151.59   \n",
              "\n",
              "   ZipCode  SqFt      Pets   Water  Shoes  Commute  NumKids Exercise Beverage  \n",
              "0     6861  2181      fish    81.3      7    40.81      2.0     High    Cider  \n",
              "1     8161  2272   cat,cat       ?      5    23.48      2.0     High      Tea  \n",
              "2      221  2029  fish,dog   21.92     14    44.74      1.0      NaN    Cider  \n",
              "3      221  2592   dog,dog  153.92      2    24.76      NaN      NaN   Coffee  \n",
              "4     7770  1069       NaN       ?     10    43.95      2.0      Low   Coffee  "
            ],
            "text/html": [
              "\n",
              "  <div id=\"df-08776b98-5e95-4208-ac77-aee9739a0667\" class=\"colab-df-container\">\n",
              "    <div>\n",
              "<style scoped>\n",
              "    .dataframe tbody tr th:only-of-type {\n",
              "        vertical-align: middle;\n",
              "    }\n",
              "\n",
              "    .dataframe tbody tr th {\n",
              "        vertical-align: top;\n",
              "    }\n",
              "\n",
              "    .dataframe thead th {\n",
              "        text-align: right;\n",
              "    }\n",
              "</style>\n",
              "<table border=\"1\" class=\"dataframe\">\n",
              "  <thead>\n",
              "    <tr style=\"text-align: right;\">\n",
              "      <th></th>\n",
              "      <th>ID</th>\n",
              "      <th>Name</th>\n",
              "      <th>Pronoun</th>\n",
              "      <th>Birthday</th>\n",
              "      <th>Weight</th>\n",
              "      <th>ZipCode</th>\n",
              "      <th>SqFt</th>\n",
              "      <th>Pets</th>\n",
              "      <th>Water</th>\n",
              "      <th>Shoes</th>\n",
              "      <th>Commute</th>\n",
              "      <th>NumKids</th>\n",
              "      <th>Exercise</th>\n",
              "      <th>Beverage</th>\n",
              "    </tr>\n",
              "  </thead>\n",
              "  <tbody>\n",
              "    <tr>\n",
              "      <th>0</th>\n",
              "      <td>100001</td>\n",
              "      <td>Ernest Sayer - software engineer</td>\n",
              "      <td>he</td>\n",
              "      <td>1971-09-09</td>\n",
              "      <td>176.35</td>\n",
              "      <td>6861</td>\n",
              "      <td>2181</td>\n",
              "      <td>fish</td>\n",
              "      <td>81.3</td>\n",
              "      <td>7</td>\n",
              "      <td>40.81</td>\n",
              "      <td>2.0</td>\n",
              "      <td>High</td>\n",
              "      <td>Cider</td>\n",
              "    </tr>\n",
              "    <tr>\n",
              "      <th>1</th>\n",
              "      <td>100002</td>\n",
              "      <td>Joseph Polston - teacher</td>\n",
              "      <td>they</td>\n",
              "      <td>1998-06-25</td>\n",
              "      <td>194.64</td>\n",
              "      <td>8161</td>\n",
              "      <td>2272</td>\n",
              "      <td>cat,cat</td>\n",
              "      <td>?</td>\n",
              "      <td>5</td>\n",
              "      <td>23.48</td>\n",
              "      <td>2.0</td>\n",
              "      <td>High</td>\n",
              "      <td>Tea</td>\n",
              "    </tr>\n",
              "    <tr>\n",
              "      <th>2</th>\n",
              "      <td>100003</td>\n",
              "      <td>Phillip Rivers - scientist</td>\n",
              "      <td>he</td>\n",
              "      <td>1956-05-20</td>\n",
              "      <td>195.02</td>\n",
              "      <td>221</td>\n",
              "      <td>2029</td>\n",
              "      <td>fish,dog</td>\n",
              "      <td>21.92</td>\n",
              "      <td>14</td>\n",
              "      <td>44.74</td>\n",
              "      <td>1.0</td>\n",
              "      <td>NaN</td>\n",
              "      <td>Cider</td>\n",
              "    </tr>\n",
              "    <tr>\n",
              "      <th>3</th>\n",
              "      <td>100004</td>\n",
              "      <td>Clara Harrill - physician</td>\n",
              "      <td>she</td>\n",
              "      <td>2004-08-22</td>\n",
              "      <td>153.16</td>\n",
              "      <td>221</td>\n",
              "      <td>2592</td>\n",
              "      <td>dog,dog</td>\n",
              "      <td>153.92</td>\n",
              "      <td>2</td>\n",
              "      <td>24.76</td>\n",
              "      <td>NaN</td>\n",
              "      <td>NaN</td>\n",
              "      <td>Coffee</td>\n",
              "    </tr>\n",
              "    <tr>\n",
              "      <th>4</th>\n",
              "      <td>100005</td>\n",
              "      <td>Mary Wilson - physician</td>\n",
              "      <td>she</td>\n",
              "      <td>1936-05-09</td>\n",
              "      <td>151.59</td>\n",
              "      <td>7770</td>\n",
              "      <td>1069</td>\n",
              "      <td>NaN</td>\n",
              "      <td>?</td>\n",
              "      <td>10</td>\n",
              "      <td>43.95</td>\n",
              "      <td>2.0</td>\n",
              "      <td>Low</td>\n",
              "      <td>Coffee</td>\n",
              "    </tr>\n",
              "  </tbody>\n",
              "</table>\n",
              "</div>\n",
              "    <div class=\"colab-df-buttons\">\n",
              "\n",
              "  <div class=\"colab-df-container\">\n",
              "    <button class=\"colab-df-convert\" onclick=\"convertToInteractive('df-08776b98-5e95-4208-ac77-aee9739a0667')\"\n",
              "            title=\"Convert this dataframe to an interactive table.\"\n",
              "            style=\"display:none;\">\n",
              "\n",
              "  <svg xmlns=\"http://www.w3.org/2000/svg\" height=\"24px\" viewBox=\"0 -960 960 960\">\n",
              "    <path d=\"M120-120v-720h720v720H120Zm60-500h600v-160H180v160Zm220 220h160v-160H400v160Zm0 220h160v-160H400v160ZM180-400h160v-160H180v160Zm440 0h160v-160H620v160ZM180-180h160v-160H180v160Zm440 0h160v-160H620v160Z\"/>\n",
              "  </svg>\n",
              "    </button>\n",
              "\n",
              "  <style>\n",
              "    .colab-df-container {\n",
              "      display:flex;\n",
              "      gap: 12px;\n",
              "    }\n",
              "\n",
              "    .colab-df-convert {\n",
              "      background-color: #E8F0FE;\n",
              "      border: none;\n",
              "      border-radius: 50%;\n",
              "      cursor: pointer;\n",
              "      display: none;\n",
              "      fill: #1967D2;\n",
              "      height: 32px;\n",
              "      padding: 0 0 0 0;\n",
              "      width: 32px;\n",
              "    }\n",
              "\n",
              "    .colab-df-convert:hover {\n",
              "      background-color: #E2EBFA;\n",
              "      box-shadow: 0px 1px 2px rgba(60, 64, 67, 0.3), 0px 1px 3px 1px rgba(60, 64, 67, 0.15);\n",
              "      fill: #174EA6;\n",
              "    }\n",
              "\n",
              "    .colab-df-buttons div {\n",
              "      margin-bottom: 4px;\n",
              "    }\n",
              "\n",
              "    [theme=dark] .colab-df-convert {\n",
              "      background-color: #3B4455;\n",
              "      fill: #D2E3FC;\n",
              "    }\n",
              "\n",
              "    [theme=dark] .colab-df-convert:hover {\n",
              "      background-color: #434B5C;\n",
              "      box-shadow: 0px 1px 3px 1px rgba(0, 0, 0, 0.15);\n",
              "      filter: drop-shadow(0px 1px 2px rgba(0, 0, 0, 0.3));\n",
              "      fill: #FFFFFF;\n",
              "    }\n",
              "  </style>\n",
              "\n",
              "    <script>\n",
              "      const buttonEl =\n",
              "        document.querySelector('#df-08776b98-5e95-4208-ac77-aee9739a0667 button.colab-df-convert');\n",
              "      buttonEl.style.display =\n",
              "        google.colab.kernel.accessAllowed ? 'block' : 'none';\n",
              "\n",
              "      async function convertToInteractive(key) {\n",
              "        const element = document.querySelector('#df-08776b98-5e95-4208-ac77-aee9739a0667');\n",
              "        const dataTable =\n",
              "          await google.colab.kernel.invokeFunction('convertToInteractive',\n",
              "                                                    [key], {});\n",
              "        if (!dataTable) return;\n",
              "\n",
              "        const docLinkHtml = 'Like what you see? Visit the ' +\n",
              "          '<a target=\"_blank\" href=https://colab.research.google.com/notebooks/data_table.ipynb>data table notebook</a>'\n",
              "          + ' to learn more about interactive tables.';\n",
              "        element.innerHTML = '';\n",
              "        dataTable['output_type'] = 'display_data';\n",
              "        await google.colab.output.renderOutput(dataTable, element);\n",
              "        const docLink = document.createElement('div');\n",
              "        docLink.innerHTML = docLinkHtml;\n",
              "        element.appendChild(docLink);\n",
              "      }\n",
              "    </script>\n",
              "  </div>\n",
              "\n",
              "\n",
              "<div id=\"df-f66236db-c688-4e6f-b048-95a41e97d3e4\">\n",
              "  <button class=\"colab-df-quickchart\" onclick=\"quickchart('df-f66236db-c688-4e6f-b048-95a41e97d3e4')\"\n",
              "            title=\"Suggest charts\"\n",
              "            style=\"display:none;\">\n",
              "\n",
              "<svg xmlns=\"http://www.w3.org/2000/svg\" height=\"24px\"viewBox=\"0 0 24 24\"\n",
              "     width=\"24px\">\n",
              "    <g>\n",
              "        <path d=\"M19 3H5c-1.1 0-2 .9-2 2v14c0 1.1.9 2 2 2h14c1.1 0 2-.9 2-2V5c0-1.1-.9-2-2-2zM9 17H7v-7h2v7zm4 0h-2V7h2v10zm4 0h-2v-4h2v4z\"/>\n",
              "    </g>\n",
              "</svg>\n",
              "  </button>\n",
              "\n",
              "<style>\n",
              "  .colab-df-quickchart {\n",
              "      --bg-color: #E8F0FE;\n",
              "      --fill-color: #1967D2;\n",
              "      --hover-bg-color: #E2EBFA;\n",
              "      --hover-fill-color: #174EA6;\n",
              "      --disabled-fill-color: #AAA;\n",
              "      --disabled-bg-color: #DDD;\n",
              "  }\n",
              "\n",
              "  [theme=dark] .colab-df-quickchart {\n",
              "      --bg-color: #3B4455;\n",
              "      --fill-color: #D2E3FC;\n",
              "      --hover-bg-color: #434B5C;\n",
              "      --hover-fill-color: #FFFFFF;\n",
              "      --disabled-bg-color: #3B4455;\n",
              "      --disabled-fill-color: #666;\n",
              "  }\n",
              "\n",
              "  .colab-df-quickchart {\n",
              "    background-color: var(--bg-color);\n",
              "    border: none;\n",
              "    border-radius: 50%;\n",
              "    cursor: pointer;\n",
              "    display: none;\n",
              "    fill: var(--fill-color);\n",
              "    height: 32px;\n",
              "    padding: 0;\n",
              "    width: 32px;\n",
              "  }\n",
              "\n",
              "  .colab-df-quickchart:hover {\n",
              "    background-color: var(--hover-bg-color);\n",
              "    box-shadow: 0 1px 2px rgba(60, 64, 67, 0.3), 0 1px 3px 1px rgba(60, 64, 67, 0.15);\n",
              "    fill: var(--button-hover-fill-color);\n",
              "  }\n",
              "\n",
              "  .colab-df-quickchart-complete:disabled,\n",
              "  .colab-df-quickchart-complete:disabled:hover {\n",
              "    background-color: var(--disabled-bg-color);\n",
              "    fill: var(--disabled-fill-color);\n",
              "    box-shadow: none;\n",
              "  }\n",
              "\n",
              "  .colab-df-spinner {\n",
              "    border: 2px solid var(--fill-color);\n",
              "    border-color: transparent;\n",
              "    border-bottom-color: var(--fill-color);\n",
              "    animation:\n",
              "      spin 1s steps(1) infinite;\n",
              "  }\n",
              "\n",
              "  @keyframes spin {\n",
              "    0% {\n",
              "      border-color: transparent;\n",
              "      border-bottom-color: var(--fill-color);\n",
              "      border-left-color: var(--fill-color);\n",
              "    }\n",
              "    20% {\n",
              "      border-color: transparent;\n",
              "      border-left-color: var(--fill-color);\n",
              "      border-top-color: var(--fill-color);\n",
              "    }\n",
              "    30% {\n",
              "      border-color: transparent;\n",
              "      border-left-color: var(--fill-color);\n",
              "      border-top-color: var(--fill-color);\n",
              "      border-right-color: var(--fill-color);\n",
              "    }\n",
              "    40% {\n",
              "      border-color: transparent;\n",
              "      border-right-color: var(--fill-color);\n",
              "      border-top-color: var(--fill-color);\n",
              "    }\n",
              "    60% {\n",
              "      border-color: transparent;\n",
              "      border-right-color: var(--fill-color);\n",
              "    }\n",
              "    80% {\n",
              "      border-color: transparent;\n",
              "      border-right-color: var(--fill-color);\n",
              "      border-bottom-color: var(--fill-color);\n",
              "    }\n",
              "    90% {\n",
              "      border-color: transparent;\n",
              "      border-bottom-color: var(--fill-color);\n",
              "    }\n",
              "  }\n",
              "</style>\n",
              "\n",
              "  <script>\n",
              "    async function quickchart(key) {\n",
              "      const quickchartButtonEl =\n",
              "        document.querySelector('#' + key + ' button');\n",
              "      quickchartButtonEl.disabled = true;  // To prevent multiple clicks.\n",
              "      quickchartButtonEl.classList.add('colab-df-spinner');\n",
              "      try {\n",
              "        const charts = await google.colab.kernel.invokeFunction(\n",
              "            'suggestCharts', [key], {});\n",
              "      } catch (error) {\n",
              "        console.error('Error during call to suggestCharts:', error);\n",
              "      }\n",
              "      quickchartButtonEl.classList.remove('colab-df-spinner');\n",
              "      quickchartButtonEl.classList.add('colab-df-quickchart-complete');\n",
              "    }\n",
              "    (() => {\n",
              "      let quickchartButtonEl =\n",
              "        document.querySelector('#df-f66236db-c688-4e6f-b048-95a41e97d3e4 button');\n",
              "      quickchartButtonEl.style.display =\n",
              "        google.colab.kernel.accessAllowed ? 'block' : 'none';\n",
              "    })();\n",
              "  </script>\n",
              "</div>\n",
              "\n",
              "    </div>\n",
              "  </div>\n"
            ],
            "application/vnd.google.colaboratory.intrinsic+json": {
              "type": "dataframe",
              "variable_name": "df",
              "summary": "{\n  \"name\": \"df\",\n  \"rows\": 1500,\n  \"fields\": [\n    {\n      \"column\": \"ID\",\n      \"properties\": {\n        \"dtype\": \"number\",\n        \"std\": 433,\n        \"min\": 100001,\n        \"max\": 101500,\n        \"num_unique_values\": 1500,\n        \"samples\": [\n          101117,\n          101369,\n          100423\n        ],\n        \"semantic_type\": \"\",\n        \"description\": \"\"\n      }\n    },\n    {\n      \"column\": \"Name\",\n      \"properties\": {\n        \"dtype\": \"string\",\n        \"num_unique_values\": 1497,\n        \"samples\": [\n          \"Patrina Julian - teacher\",\n          \"Lowell Scott - receptionist\",\n          \"Ethel Pepin - trucker\"\n        ],\n        \"semantic_type\": \"\",\n        \"description\": \"\"\n      }\n    },\n    {\n      \"column\": \"Pronoun\",\n      \"properties\": {\n        \"dtype\": \"category\",\n        \"num_unique_values\": 3,\n        \"samples\": [\n          \"he\",\n          \"they\",\n          \"she\"\n        ],\n        \"semantic_type\": \"\",\n        \"description\": \"\"\n      }\n    },\n    {\n      \"column\": \"Birthday\",\n      \"properties\": {\n        \"dtype\": \"object\",\n        \"num_unique_values\": 1458,\n        \"samples\": [\n          \"1962-08-26\",\n          \"1965-01-04\",\n          \"1987-01-11\"\n        ],\n        \"semantic_type\": \"\",\n        \"description\": \"\"\n      }\n    },\n    {\n      \"column\": \"Weight\",\n      \"properties\": {\n        \"dtype\": \"number\",\n        \"std\": 44.248954381473524,\n        \"min\": 130.14,\n        \"max\": 379.94,\n        \"num_unique_values\": 1382,\n        \"samples\": [\n          173.38,\n          144.01,\n          137.27\n        ],\n        \"semantic_type\": \"\",\n        \"description\": \"\"\n      }\n    },\n    {\n      \"column\": \"ZipCode\",\n      \"properties\": {\n        \"dtype\": \"number\",\n        \"std\": 3123,\n        \"min\": 221,\n        \"max\": 8161,\n        \"num_unique_values\": 10,\n        \"samples\": [\n          445,\n          8161,\n          4532\n        ],\n        \"semantic_type\": \"\",\n        \"description\": \"\"\n      }\n    },\n    {\n      \"column\": \"SqFt\",\n      \"properties\": {\n        \"dtype\": \"number\",\n        \"std\": 612,\n        \"min\": -1000,\n        \"max\": 6494,\n        \"num_unique_values\": 970,\n        \"samples\": [\n          1302,\n          1594,\n          1650\n        ],\n        \"semantic_type\": \"\",\n        \"description\": \"\"\n      }\n    },\n    {\n      \"column\": \"Pets\",\n      \"properties\": {\n        \"dtype\": \"category\",\n        \"num_unique_values\": 579,\n        \"samples\": [\n          \"dog,fish,fish,bird,dog\",\n          \"bird,dog,dog,fish,bird\",\n          \"lizard,dog,cat,cat,fish\"\n        ],\n        \"semantic_type\": \"\",\n        \"description\": \"\"\n      }\n    },\n    {\n      \"column\": \"Water\",\n      \"properties\": {\n        \"dtype\": \"string\",\n        \"num_unique_values\": 1412,\n        \"samples\": [\n          \"45.76\",\n          \"54.45\",\n          \"145.02\"\n        ],\n        \"semantic_type\": \"\",\n        \"description\": \"\"\n      }\n    },\n    {\n      \"column\": \"Shoes\",\n      \"properties\": {\n        \"dtype\": \"number\",\n        \"std\": 3,\n        \"min\": 0,\n        \"max\": 22,\n        \"num_unique_values\": 22,\n        \"samples\": [\n          7,\n          13,\n          12\n        ],\n        \"semantic_type\": \"\",\n        \"description\": \"\"\n      }\n    },\n    {\n      \"column\": \"Commute\",\n      \"properties\": {\n        \"dtype\": \"number\",\n        \"std\": 18.211581105380304,\n        \"min\": 0.14,\n        \"max\": 110.72,\n        \"num_unique_values\": 1310,\n        \"samples\": [\n          44.91,\n          42.54,\n          12.38\n        ],\n        \"semantic_type\": \"\",\n        \"description\": \"\"\n      }\n    },\n    {\n      \"column\": \"NumKids\",\n      \"properties\": {\n        \"dtype\": \"number\",\n        \"std\": 1.1739732532980631,\n        \"min\": 1.0,\n        \"max\": 6.0,\n        \"num_unique_values\": 6,\n        \"samples\": [\n          2.0,\n          1.0,\n          5.0\n        ],\n        \"semantic_type\": \"\",\n        \"description\": \"\"\n      }\n    },\n    {\n      \"column\": \"Exercise\",\n      \"properties\": {\n        \"dtype\": \"category\",\n        \"num_unique_values\": 3,\n        \"samples\": [\n          \"High\",\n          \"Low\",\n          \"Medium\"\n        ],\n        \"semantic_type\": \"\",\n        \"description\": \"\"\n      }\n    },\n    {\n      \"column\": \"Beverage\",\n      \"properties\": {\n        \"dtype\": \"category\",\n        \"num_unique_values\": 4,\n        \"samples\": [\n          \"Tea\",\n          \"Cocoa\",\n          \"Cider\"\n        ],\n        \"semantic_type\": \"\",\n        \"description\": \"\"\n      }\n    }\n  ]\n}"
            }
          },
          "metadata": {},
          "execution_count": 345
        }
      ],
      "source": [
        "import numpy as np\n",
        "import matplotlib.pyplot as plt\n",
        "import pandas as pd\n",
        "import seaborn as sns\n",
        "from sklearn.model_selection import train_test_split\n",
        "\n",
        "file_link = 'https://drive.google.com/uc?export=download&id=1OQIDkVeh-hQePVP1JGA6RmwLyRuk0QjQ'\n",
        "df = pd.read_csv(file_link)\n",
        "df.head()"
      ]
    },
    {
      "cell_type": "markdown",
      "source": [
        "Examine the characteristics of the attributes, including relevant statistics for each attribute."
      ],
      "metadata": {
        "id": "v42zViBfnukO"
      }
    },
    {
      "cell_type": "code",
      "source": [
        "df.info()"
      ],
      "metadata": {
        "colab": {
          "base_uri": "https://localhost:8080/"
        },
        "id": "fcLzfXrJnY2b",
        "outputId": "5ac18d92-1d6c-4319-e238-9a322528a0d4"
      },
      "execution_count": null,
      "outputs": [
        {
          "output_type": "stream",
          "name": "stdout",
          "text": [
            "<class 'pandas.core.frame.DataFrame'>\n",
            "RangeIndex: 1500 entries, 0 to 1499\n",
            "Data columns (total 14 columns):\n",
            " #   Column    Non-Null Count  Dtype  \n",
            "---  ------    --------------  -----  \n",
            " 0   ID        1500 non-null   int64  \n",
            " 1   Name      1497 non-null   object \n",
            " 2   Pronoun   1500 non-null   object \n",
            " 3   Birthday  1500 non-null   object \n",
            " 4   Weight    1500 non-null   float64\n",
            " 5   ZipCode   1500 non-null   int64  \n",
            " 6   SqFt      1500 non-null   int64  \n",
            " 7   Pets      1138 non-null   object \n",
            " 8   Water     1500 non-null   object \n",
            " 9   Shoes     1500 non-null   int64  \n",
            " 10  Commute   1494 non-null   float64\n",
            " 11  NumKids   1362 non-null   float64\n",
            " 12  Exercise  978 non-null    object \n",
            " 13  Beverage  1500 non-null   object \n",
            "dtypes: float64(3), int64(4), object(7)\n",
            "memory usage: 164.2+ KB\n"
          ]
        }
      ]
    },
    {
      "cell_type": "code",
      "source": [
        "df.describe()"
      ],
      "metadata": {
        "colab": {
          "base_uri": "https://localhost:8080/",
          "height": 300
        },
        "id": "AcNJ6_6pneWd",
        "outputId": "71951d0b-a0e7-4f6f-aa35-5a4da07a0c37"
      },
      "execution_count": null,
      "outputs": [
        {
          "output_type": "execute_result",
          "data": {
            "text/plain": [
              "                  ID       Weight      ZipCode         SqFt        Shoes  \\\n",
              "count    1500.000000  1500.000000  1500.000000  1500.000000  1500.000000   \n",
              "mean   100750.500000   181.653713  3798.285333  2027.300000     7.150667   \n",
              "std       433.157015    44.248954  3123.393927   612.348734     3.806699   \n",
              "min    100001.000000   130.140000   221.000000 -1000.000000     0.000000   \n",
              "25%    100375.750000   155.447500   221.000000  1718.500000     4.000000   \n",
              "50%    100750.500000   173.135000  3977.000000  2013.500000     7.000000   \n",
              "75%    101125.250000   193.707500  6861.000000  2266.000000    10.000000   \n",
              "max    101500.000000   379.940000  8161.000000  6494.000000    22.000000   \n",
              "\n",
              "           Commute      NumKids  \n",
              "count  1494.000000  1362.000000  \n",
              "mean     26.116640     2.476505  \n",
              "std      18.211581     1.173973  \n",
              "min       0.140000     1.000000  \n",
              "25%      11.795000     2.000000  \n",
              "50%      23.425000     2.000000  \n",
              "75%      37.310000     3.000000  \n",
              "max     110.720000     6.000000  "
            ],
            "text/html": [
              "\n",
              "  <div id=\"df-2805c235-e5f7-4148-9500-07612ee88ecc\" class=\"colab-df-container\">\n",
              "    <div>\n",
              "<style scoped>\n",
              "    .dataframe tbody tr th:only-of-type {\n",
              "        vertical-align: middle;\n",
              "    }\n",
              "\n",
              "    .dataframe tbody tr th {\n",
              "        vertical-align: top;\n",
              "    }\n",
              "\n",
              "    .dataframe thead th {\n",
              "        text-align: right;\n",
              "    }\n",
              "</style>\n",
              "<table border=\"1\" class=\"dataframe\">\n",
              "  <thead>\n",
              "    <tr style=\"text-align: right;\">\n",
              "      <th></th>\n",
              "      <th>ID</th>\n",
              "      <th>Weight</th>\n",
              "      <th>ZipCode</th>\n",
              "      <th>SqFt</th>\n",
              "      <th>Shoes</th>\n",
              "      <th>Commute</th>\n",
              "      <th>NumKids</th>\n",
              "    </tr>\n",
              "  </thead>\n",
              "  <tbody>\n",
              "    <tr>\n",
              "      <th>count</th>\n",
              "      <td>1500.000000</td>\n",
              "      <td>1500.000000</td>\n",
              "      <td>1500.000000</td>\n",
              "      <td>1500.000000</td>\n",
              "      <td>1500.000000</td>\n",
              "      <td>1494.000000</td>\n",
              "      <td>1362.000000</td>\n",
              "    </tr>\n",
              "    <tr>\n",
              "      <th>mean</th>\n",
              "      <td>100750.500000</td>\n",
              "      <td>181.653713</td>\n",
              "      <td>3798.285333</td>\n",
              "      <td>2027.300000</td>\n",
              "      <td>7.150667</td>\n",
              "      <td>26.116640</td>\n",
              "      <td>2.476505</td>\n",
              "    </tr>\n",
              "    <tr>\n",
              "      <th>std</th>\n",
              "      <td>433.157015</td>\n",
              "      <td>44.248954</td>\n",
              "      <td>3123.393927</td>\n",
              "      <td>612.348734</td>\n",
              "      <td>3.806699</td>\n",
              "      <td>18.211581</td>\n",
              "      <td>1.173973</td>\n",
              "    </tr>\n",
              "    <tr>\n",
              "      <th>min</th>\n",
              "      <td>100001.000000</td>\n",
              "      <td>130.140000</td>\n",
              "      <td>221.000000</td>\n",
              "      <td>-1000.000000</td>\n",
              "      <td>0.000000</td>\n",
              "      <td>0.140000</td>\n",
              "      <td>1.000000</td>\n",
              "    </tr>\n",
              "    <tr>\n",
              "      <th>25%</th>\n",
              "      <td>100375.750000</td>\n",
              "      <td>155.447500</td>\n",
              "      <td>221.000000</td>\n",
              "      <td>1718.500000</td>\n",
              "      <td>4.000000</td>\n",
              "      <td>11.795000</td>\n",
              "      <td>2.000000</td>\n",
              "    </tr>\n",
              "    <tr>\n",
              "      <th>50%</th>\n",
              "      <td>100750.500000</td>\n",
              "      <td>173.135000</td>\n",
              "      <td>3977.000000</td>\n",
              "      <td>2013.500000</td>\n",
              "      <td>7.000000</td>\n",
              "      <td>23.425000</td>\n",
              "      <td>2.000000</td>\n",
              "    </tr>\n",
              "    <tr>\n",
              "      <th>75%</th>\n",
              "      <td>101125.250000</td>\n",
              "      <td>193.707500</td>\n",
              "      <td>6861.000000</td>\n",
              "      <td>2266.000000</td>\n",
              "      <td>10.000000</td>\n",
              "      <td>37.310000</td>\n",
              "      <td>3.000000</td>\n",
              "    </tr>\n",
              "    <tr>\n",
              "      <th>max</th>\n",
              "      <td>101500.000000</td>\n",
              "      <td>379.940000</td>\n",
              "      <td>8161.000000</td>\n",
              "      <td>6494.000000</td>\n",
              "      <td>22.000000</td>\n",
              "      <td>110.720000</td>\n",
              "      <td>6.000000</td>\n",
              "    </tr>\n",
              "  </tbody>\n",
              "</table>\n",
              "</div>\n",
              "    <div class=\"colab-df-buttons\">\n",
              "\n",
              "  <div class=\"colab-df-container\">\n",
              "    <button class=\"colab-df-convert\" onclick=\"convertToInteractive('df-2805c235-e5f7-4148-9500-07612ee88ecc')\"\n",
              "            title=\"Convert this dataframe to an interactive table.\"\n",
              "            style=\"display:none;\">\n",
              "\n",
              "  <svg xmlns=\"http://www.w3.org/2000/svg\" height=\"24px\" viewBox=\"0 -960 960 960\">\n",
              "    <path d=\"M120-120v-720h720v720H120Zm60-500h600v-160H180v160Zm220 220h160v-160H400v160Zm0 220h160v-160H400v160ZM180-400h160v-160H180v160Zm440 0h160v-160H620v160ZM180-180h160v-160H180v160Zm440 0h160v-160H620v160Z\"/>\n",
              "  </svg>\n",
              "    </button>\n",
              "\n",
              "  <style>\n",
              "    .colab-df-container {\n",
              "      display:flex;\n",
              "      gap: 12px;\n",
              "    }\n",
              "\n",
              "    .colab-df-convert {\n",
              "      background-color: #E8F0FE;\n",
              "      border: none;\n",
              "      border-radius: 50%;\n",
              "      cursor: pointer;\n",
              "      display: none;\n",
              "      fill: #1967D2;\n",
              "      height: 32px;\n",
              "      padding: 0 0 0 0;\n",
              "      width: 32px;\n",
              "    }\n",
              "\n",
              "    .colab-df-convert:hover {\n",
              "      background-color: #E2EBFA;\n",
              "      box-shadow: 0px 1px 2px rgba(60, 64, 67, 0.3), 0px 1px 3px 1px rgba(60, 64, 67, 0.15);\n",
              "      fill: #174EA6;\n",
              "    }\n",
              "\n",
              "    .colab-df-buttons div {\n",
              "      margin-bottom: 4px;\n",
              "    }\n",
              "\n",
              "    [theme=dark] .colab-df-convert {\n",
              "      background-color: #3B4455;\n",
              "      fill: #D2E3FC;\n",
              "    }\n",
              "\n",
              "    [theme=dark] .colab-df-convert:hover {\n",
              "      background-color: #434B5C;\n",
              "      box-shadow: 0px 1px 3px 1px rgba(0, 0, 0, 0.15);\n",
              "      filter: drop-shadow(0px 1px 2px rgba(0, 0, 0, 0.3));\n",
              "      fill: #FFFFFF;\n",
              "    }\n",
              "  </style>\n",
              "\n",
              "    <script>\n",
              "      const buttonEl =\n",
              "        document.querySelector('#df-2805c235-e5f7-4148-9500-07612ee88ecc button.colab-df-convert');\n",
              "      buttonEl.style.display =\n",
              "        google.colab.kernel.accessAllowed ? 'block' : 'none';\n",
              "\n",
              "      async function convertToInteractive(key) {\n",
              "        const element = document.querySelector('#df-2805c235-e5f7-4148-9500-07612ee88ecc');\n",
              "        const dataTable =\n",
              "          await google.colab.kernel.invokeFunction('convertToInteractive',\n",
              "                                                    [key], {});\n",
              "        if (!dataTable) return;\n",
              "\n",
              "        const docLinkHtml = 'Like what you see? Visit the ' +\n",
              "          '<a target=\"_blank\" href=https://colab.research.google.com/notebooks/data_table.ipynb>data table notebook</a>'\n",
              "          + ' to learn more about interactive tables.';\n",
              "        element.innerHTML = '';\n",
              "        dataTable['output_type'] = 'display_data';\n",
              "        await google.colab.output.renderOutput(dataTable, element);\n",
              "        const docLink = document.createElement('div');\n",
              "        docLink.innerHTML = docLinkHtml;\n",
              "        element.appendChild(docLink);\n",
              "      }\n",
              "    </script>\n",
              "  </div>\n",
              "\n",
              "\n",
              "<div id=\"df-42b708d9-0e8a-4497-9e88-a237b00f5fd9\">\n",
              "  <button class=\"colab-df-quickchart\" onclick=\"quickchart('df-42b708d9-0e8a-4497-9e88-a237b00f5fd9')\"\n",
              "            title=\"Suggest charts\"\n",
              "            style=\"display:none;\">\n",
              "\n",
              "<svg xmlns=\"http://www.w3.org/2000/svg\" height=\"24px\"viewBox=\"0 0 24 24\"\n",
              "     width=\"24px\">\n",
              "    <g>\n",
              "        <path d=\"M19 3H5c-1.1 0-2 .9-2 2v14c0 1.1.9 2 2 2h14c1.1 0 2-.9 2-2V5c0-1.1-.9-2-2-2zM9 17H7v-7h2v7zm4 0h-2V7h2v10zm4 0h-2v-4h2v4z\"/>\n",
              "    </g>\n",
              "</svg>\n",
              "  </button>\n",
              "\n",
              "<style>\n",
              "  .colab-df-quickchart {\n",
              "      --bg-color: #E8F0FE;\n",
              "      --fill-color: #1967D2;\n",
              "      --hover-bg-color: #E2EBFA;\n",
              "      --hover-fill-color: #174EA6;\n",
              "      --disabled-fill-color: #AAA;\n",
              "      --disabled-bg-color: #DDD;\n",
              "  }\n",
              "\n",
              "  [theme=dark] .colab-df-quickchart {\n",
              "      --bg-color: #3B4455;\n",
              "      --fill-color: #D2E3FC;\n",
              "      --hover-bg-color: #434B5C;\n",
              "      --hover-fill-color: #FFFFFF;\n",
              "      --disabled-bg-color: #3B4455;\n",
              "      --disabled-fill-color: #666;\n",
              "  }\n",
              "\n",
              "  .colab-df-quickchart {\n",
              "    background-color: var(--bg-color);\n",
              "    border: none;\n",
              "    border-radius: 50%;\n",
              "    cursor: pointer;\n",
              "    display: none;\n",
              "    fill: var(--fill-color);\n",
              "    height: 32px;\n",
              "    padding: 0;\n",
              "    width: 32px;\n",
              "  }\n",
              "\n",
              "  .colab-df-quickchart:hover {\n",
              "    background-color: var(--hover-bg-color);\n",
              "    box-shadow: 0 1px 2px rgba(60, 64, 67, 0.3), 0 1px 3px 1px rgba(60, 64, 67, 0.15);\n",
              "    fill: var(--button-hover-fill-color);\n",
              "  }\n",
              "\n",
              "  .colab-df-quickchart-complete:disabled,\n",
              "  .colab-df-quickchart-complete:disabled:hover {\n",
              "    background-color: var(--disabled-bg-color);\n",
              "    fill: var(--disabled-fill-color);\n",
              "    box-shadow: none;\n",
              "  }\n",
              "\n",
              "  .colab-df-spinner {\n",
              "    border: 2px solid var(--fill-color);\n",
              "    border-color: transparent;\n",
              "    border-bottom-color: var(--fill-color);\n",
              "    animation:\n",
              "      spin 1s steps(1) infinite;\n",
              "  }\n",
              "\n",
              "  @keyframes spin {\n",
              "    0% {\n",
              "      border-color: transparent;\n",
              "      border-bottom-color: var(--fill-color);\n",
              "      border-left-color: var(--fill-color);\n",
              "    }\n",
              "    20% {\n",
              "      border-color: transparent;\n",
              "      border-left-color: var(--fill-color);\n",
              "      border-top-color: var(--fill-color);\n",
              "    }\n",
              "    30% {\n",
              "      border-color: transparent;\n",
              "      border-left-color: var(--fill-color);\n",
              "      border-top-color: var(--fill-color);\n",
              "      border-right-color: var(--fill-color);\n",
              "    }\n",
              "    40% {\n",
              "      border-color: transparent;\n",
              "      border-right-color: var(--fill-color);\n",
              "      border-top-color: var(--fill-color);\n",
              "    }\n",
              "    60% {\n",
              "      border-color: transparent;\n",
              "      border-right-color: var(--fill-color);\n",
              "    }\n",
              "    80% {\n",
              "      border-color: transparent;\n",
              "      border-right-color: var(--fill-color);\n",
              "      border-bottom-color: var(--fill-color);\n",
              "    }\n",
              "    90% {\n",
              "      border-color: transparent;\n",
              "      border-bottom-color: var(--fill-color);\n",
              "    }\n",
              "  }\n",
              "</style>\n",
              "\n",
              "  <script>\n",
              "    async function quickchart(key) {\n",
              "      const quickchartButtonEl =\n",
              "        document.querySelector('#' + key + ' button');\n",
              "      quickchartButtonEl.disabled = true;  // To prevent multiple clicks.\n",
              "      quickchartButtonEl.classList.add('colab-df-spinner');\n",
              "      try {\n",
              "        const charts = await google.colab.kernel.invokeFunction(\n",
              "            'suggestCharts', [key], {});\n",
              "      } catch (error) {\n",
              "        console.error('Error during call to suggestCharts:', error);\n",
              "      }\n",
              "      quickchartButtonEl.classList.remove('colab-df-spinner');\n",
              "      quickchartButtonEl.classList.add('colab-df-quickchart-complete');\n",
              "    }\n",
              "    (() => {\n",
              "      let quickchartButtonEl =\n",
              "        document.querySelector('#df-42b708d9-0e8a-4497-9e88-a237b00f5fd9 button');\n",
              "      quickchartButtonEl.style.display =\n",
              "        google.colab.kernel.accessAllowed ? 'block' : 'none';\n",
              "    })();\n",
              "  </script>\n",
              "</div>\n",
              "\n",
              "    </div>\n",
              "  </div>\n"
            ],
            "application/vnd.google.colaboratory.intrinsic+json": {
              "type": "dataframe",
              "summary": "{\n  \"name\": \"df\",\n  \"rows\": 8,\n  \"fields\": [\n    {\n      \"column\": \"ID\",\n      \"properties\": {\n        \"dtype\": \"number\",\n        \"std\": 46194.0316725818,\n        \"min\": 433.15701541127095,\n        \"max\": 101500.0,\n        \"num_unique_values\": 7,\n        \"samples\": [\n          1500.0,\n          100750.5,\n          101125.25\n        ],\n        \"semantic_type\": \"\",\n        \"description\": \"\"\n      }\n    },\n    {\n      \"column\": \"Weight\",\n      \"properties\": {\n        \"dtype\": \"number\",\n        \"std\": 476.1303243090253,\n        \"min\": 44.248954381473524,\n        \"max\": 1500.0,\n        \"num_unique_values\": 8,\n        \"samples\": [\n          181.65371333333334,\n          173.135,\n          1500.0\n        ],\n        \"semantic_type\": \"\",\n        \"description\": \"\"\n      }\n    },\n    {\n      \"column\": \"ZipCode\",\n      \"properties\": {\n        \"dtype\": \"number\",\n        \"std\": 2902.7302948225706,\n        \"min\": 221.0,\n        \"max\": 8161.0,\n        \"num_unique_values\": 7,\n        \"samples\": [\n          1500.0,\n          3798.2853333333333,\n          6861.0\n        ],\n        \"semantic_type\": \"\",\n        \"description\": \"\"\n      }\n    },\n    {\n      \"column\": \"SqFt\",\n      \"properties\": {\n        \"dtype\": \"number\",\n        \"std\": 2121.508139247228,\n        \"min\": -1000.0,\n        \"max\": 6494.0,\n        \"num_unique_values\": 8,\n        \"samples\": [\n          2027.3,\n          2013.5,\n          1500.0\n        ],\n        \"semantic_type\": \"\",\n        \"description\": \"\"\n      }\n    },\n    {\n      \"column\": \"Shoes\",\n      \"properties\": {\n        \"dtype\": \"number\",\n        \"std\": 527.6452658552646,\n        \"min\": 0.0,\n        \"max\": 1500.0,\n        \"num_unique_values\": 8,\n        \"samples\": [\n          7.150666666666667,\n          7.0,\n          1500.0\n        ],\n        \"semantic_type\": \"\",\n        \"description\": \"\"\n      }\n    },\n    {\n      \"column\": \"Commute\",\n      \"properties\": {\n        \"dtype\": \"number\",\n        \"std\": 517.8043429783887,\n        \"min\": 0.14,\n        \"max\": 1494.0,\n        \"num_unique_values\": 8,\n        \"samples\": [\n          26.116639892904953,\n          23.425,\n          1494.0\n        ],\n        \"semantic_type\": \"\",\n        \"description\": \"\"\n      }\n    },\n    {\n      \"column\": \"NumKids\",\n      \"properties\": {\n        \"dtype\": \"number\",\n        \"std\": 480.6507613901803,\n        \"min\": 1.0,\n        \"max\": 1362.0,\n        \"num_unique_values\": 7,\n        \"samples\": [\n          1362.0,\n          2.476505139500734,\n          3.0\n        ],\n        \"semantic_type\": \"\",\n        \"description\": \"\"\n      }\n    }\n  ]\n}"
            }
          },
          "metadata": {},
          "execution_count": 347
        }
      ]
    },
    {
      "cell_type": "code",
      "source": [
        "df.nunique()"
      ],
      "metadata": {
        "colab": {
          "base_uri": "https://localhost:8080/"
        },
        "id": "Wd1jS52XO0eG",
        "outputId": "4fb1ff82-83e3-4c8b-acfb-a8f5016ee8cd"
      },
      "execution_count": null,
      "outputs": [
        {
          "output_type": "execute_result",
          "data": {
            "text/plain": [
              "ID          1500\n",
              "Name        1497\n",
              "Pronoun        3\n",
              "Birthday    1458\n",
              "Weight      1382\n",
              "ZipCode       10\n",
              "SqFt         970\n",
              "Pets         579\n",
              "Water       1412\n",
              "Shoes         22\n",
              "Commute     1310\n",
              "NumKids        6\n",
              "Exercise       3\n",
              "Beverage       4\n",
              "dtype: int64"
            ]
          },
          "metadata": {},
          "execution_count": 348
        }
      ]
    },
    {
      "cell_type": "markdown",
      "source": [
        "Wrangle the data to get it clean and ready for machine learning.\n"
      ],
      "metadata": {
        "id": "npk4K1wlnxOE"
      }
    },
    {
      "cell_type": "markdown",
      "source": [
        "check duplicates"
      ],
      "metadata": {
        "id": "P3pAnzLIPXmU"
      }
    },
    {
      "cell_type": "code",
      "source": [
        "print('There are', df.shape[0], 'rows before')\n",
        "df = df.drop_duplicates()\n",
        "print('There are', df.shape[0], 'rows after')"
      ],
      "metadata": {
        "colab": {
          "base_uri": "https://localhost:8080/"
        },
        "id": "58AguTCXPYYm",
        "outputId": "9dde7184-02de-4dd3-be50-337caf23ae02"
      },
      "execution_count": null,
      "outputs": [
        {
          "output_type": "stream",
          "name": "stdout",
          "text": [
            "There are 1500 rows before\n",
            "There are 1500 rows after\n"
          ]
        }
      ]
    },
    {
      "cell_type": "markdown",
      "source": [
        "Drop ID"
      ],
      "metadata": {
        "id": "edAyRBf-Pq2U"
      }
    },
    {
      "cell_type": "code",
      "source": [
        "df = df.drop(['ID'], axis=1)"
      ],
      "metadata": {
        "id": "9Z7c2H--PXK3"
      },
      "execution_count": null,
      "outputs": []
    },
    {
      "cell_type": "markdown",
      "source": [
        "Fix Name to make name and job"
      ],
      "metadata": {
        "id": "W48qCdUzRAVw"
      }
    },
    {
      "cell_type": "code",
      "source": [
        "df[['Name', 'Job']] = df['Name'].str.split(' - ', expand=True)"
      ],
      "metadata": {
        "id": "lZwX3VpAnnre"
      },
      "execution_count": null,
      "outputs": []
    },
    {
      "cell_type": "markdown",
      "source": [
        "Drop name"
      ],
      "metadata": {
        "id": "96iTObDwqjEt"
      }
    },
    {
      "cell_type": "code",
      "source": [
        "df = df.drop(['Name'], axis=1)"
      ],
      "metadata": {
        "id": "PMrfaAtlrqBI"
      },
      "execution_count": null,
      "outputs": []
    },
    {
      "cell_type": "markdown",
      "source": [
        "Change Birthday to Age"
      ],
      "metadata": {
        "id": "sV7l8_57RPKE"
      }
    },
    {
      "cell_type": "code",
      "source": [
        "df['Birthday'] = pd.to_datetime(df['Birthday'])\n",
        "import datetime\n",
        "today = datetime.date.today()\n",
        "df['Age'] = today.year - df['Birthday'].dt.year - ((today.month - df['Birthday'].dt.month) < 0) - ((today.day - df['Birthday'].dt.day) < 0)\n",
        "df = df.drop(['Birthday'], axis=1)"
      ],
      "metadata": {
        "id": "gbDWP4j8rusc"
      },
      "execution_count": null,
      "outputs": []
    },
    {
      "cell_type": "markdown",
      "source": [
        "Column for contains of each pet. I tried using a count for all and it did not work much better so I left it as I originally had."
      ],
      "metadata": {
        "id": "7CHOPdpmRSiw"
      }
    },
    {
      "cell_type": "code",
      "source": [
        "df['Pets'] = df['Pets'].astype(str)\n",
        "df['Dog'] = df['Pets'].str.contains(\"dog\")\n",
        "df['Cat'] = df['Pets'].str.contains(\"cat\")\n",
        "df['Fish'] = df['Pets'].str.contains(\"fish\")\n",
        "df['Hamster'] = df['Pets'].str.contains(\"hamster\")\n",
        "df['Lizard'] = df['Pets'].str.contains(\"lizard\")\n",
        "df['pet_counts'] = df['Pets'].str.count(',')\n",
        "df['pet_counts'] = pd.to_numeric(df['pet_counts'])\n",
        "df['pet_counts'] = df['pet_counts'] + 1\n",
        "df = df.drop('Pets', axis=1)\n"
      ],
      "metadata": {
        "id": "TTxo83rGCTr6"
      },
      "execution_count": null,
      "outputs": []
    },
    {
      "cell_type": "markdown",
      "source": [
        "Fills in null and missing values"
      ],
      "metadata": {
        "id": "49ErhFoLRghJ"
      }
    },
    {
      "cell_type": "code",
      "source": [
        "df['Exercise'] = df['Exercise'].fillna('None')\n",
        "df['Water'] = df['Water'].replace(['?'], np.nan)"
      ],
      "metadata": {
        "id": "IOoMEh1asLHi"
      },
      "execution_count": null,
      "outputs": []
    },
    {
      "cell_type": "markdown",
      "source": [
        "Fills in more null values"
      ],
      "metadata": {
        "id": "YkgBWlclRkBx"
      }
    },
    {
      "cell_type": "code",
      "source": [
        "df['NumKids'] = df['NumKids'].fillna(0)\n",
        "df['Commute'] = df['Commute'].fillna(0)\n",
        "df['Job'] = df['Job'].fillna('Unemployed')"
      ],
      "metadata": {
        "id": "j7eKOPV0vME2"
      },
      "execution_count": null,
      "outputs": []
    },
    {
      "cell_type": "markdown",
      "source": [
        "Converts water to numeric value"
      ],
      "metadata": {
        "id": "wpeZ6wwURo6Z"
      }
    },
    {
      "cell_type": "code",
      "source": [
        "df['Water'] = pd.to_numeric(df['Water'])"
      ],
      "metadata": {
        "id": "JwrnZNdSwqd6"
      },
      "execution_count": null,
      "outputs": []
    },
    {
      "cell_type": "markdown",
      "source": [
        "Gets the water consumption average for each pronoun and insert it into null values"
      ],
      "metadata": {
        "id": "5evBBHxZRr_y"
      }
    },
    {
      "cell_type": "code",
      "source": [
        "for pronoun in ['he', 'she', 'they']:\n",
        "  mask = df['Pronoun'] == pronoun\n",
        "  avg_water = df.loc[mask, 'Water'].mean()\n",
        "  df.loc[mask, 'Water']= df.loc[mask, 'Water'].fillna(avg_water)\n"
      ],
      "metadata": {
        "id": "o5w39kA4vzQa"
      },
      "execution_count": null,
      "outputs": []
    },
    {
      "cell_type": "code",
      "source": [
        "df.info()"
      ],
      "metadata": {
        "colab": {
          "base_uri": "https://localhost:8080/"
        },
        "id": "sgtttlIvvpc7",
        "outputId": "33cb748c-10b4-40f3-e684-7a73732dde47"
      },
      "execution_count": null,
      "outputs": [
        {
          "output_type": "stream",
          "name": "stdout",
          "text": [
            "<class 'pandas.core.frame.DataFrame'>\n",
            "RangeIndex: 1500 entries, 0 to 1499\n",
            "Data columns (total 18 columns):\n",
            " #   Column      Non-Null Count  Dtype  \n",
            "---  ------      --------------  -----  \n",
            " 0   Pronoun     1500 non-null   object \n",
            " 1   Weight      1500 non-null   float64\n",
            " 2   ZipCode     1500 non-null   int64  \n",
            " 3   SqFt        1500 non-null   int64  \n",
            " 4   Water       1500 non-null   float64\n",
            " 5   Shoes       1500 non-null   int64  \n",
            " 6   Commute     1500 non-null   float64\n",
            " 7   NumKids     1500 non-null   float64\n",
            " 8   Exercise    1500 non-null   object \n",
            " 9   Beverage    1500 non-null   object \n",
            " 10  Job         1500 non-null   object \n",
            " 11  Age         1500 non-null   int32  \n",
            " 12  Dog         1500 non-null   bool   \n",
            " 13  Cat         1500 non-null   bool   \n",
            " 14  Fish        1500 non-null   bool   \n",
            " 15  Hamster     1500 non-null   bool   \n",
            " 16  Lizard      1500 non-null   bool   \n",
            " 17  pet_counts  1500 non-null   int64  \n",
            "dtypes: bool(5), float64(4), int32(1), int64(4), object(4)\n",
            "memory usage: 153.9+ KB\n"
          ]
        }
      ]
    },
    {
      "cell_type": "markdown",
      "source": [
        "Visualizations"
      ],
      "metadata": {
        "id": "D0gjpp4CzfOY"
      }
    },
    {
      "cell_type": "code",
      "source": [
        "sns.countplot(df, x='Beverage')"
      ],
      "metadata": {
        "colab": {
          "base_uri": "https://localhost:8080/",
          "height": 466
        },
        "id": "cyDJMTUkxx7I",
        "outputId": "64b68ba0-16b1-47a4-d3df-b91e69dcc164"
      },
      "execution_count": null,
      "outputs": [
        {
          "output_type": "execute_result",
          "data": {
            "text/plain": [
              "<Axes: xlabel='Beverage', ylabel='count'>"
            ]
          },
          "metadata": {},
          "execution_count": 360
        },
        {
          "output_type": "display_data",
          "data": {
            "text/plain": [
              "<Figure size 640x480 with 1 Axes>"
            ],
            "image/png": "[encoded data removed]"
          },
          "metadata": {}
        }
      ]
    },
    {
      "cell_type": "code",
      "source": [
        "sns.boxplot(df, y='Beverage', x='Weight', hue='Beverage')"
      ],
      "metadata": {
        "colab": {
          "base_uri": "https://localhost:8080/",
          "height": 466
        },
        "id": "K6hzh3gEzhjG",
        "outputId": "77fa0cf7-f49b-49ca-bcee-fe85ce9e32a2"
      },
      "execution_count": null,
      "outputs": [
        {
          "output_type": "execute_result",
          "data": {
            "text/plain": [
              "<Axes: xlabel='Weight', ylabel='Beverage'>"
            ]
          },
          "metadata": {},
          "execution_count": 361
        },
        {
          "output_type": "display_data",
          "data": {
            "text/plain": [
              "<Figure size 640x480 with 1 Axes>"
            ],
            "image/png": "[encoded data removed]"
          },
          "metadata": {}
        }
      ]
    },
    {
      "cell_type": "code",
      "source": [
        "sns.scatterplot(df, x='Age', y='Water', hue='Beverage', style='Beverage')"
      ],
      "metadata": {
        "colab": {
          "base_uri": "https://localhost:8080/",
          "height": 466
        },
        "id": "72OXtPt20EL8",
        "outputId": "04fdfb24-ddf6-4a71-ffda-5d2f258aa7ad"
      },
      "execution_count": null,
      "outputs": [
        {
          "output_type": "execute_result",
          "data": {
            "text/plain": [
              "<Axes: xlabel='Age', ylabel='Water'>"
            ]
          },
          "metadata": {},
          "execution_count": 362
        },
        {
          "output_type": "display_data",
          "data": {
            "text/plain": [
              "<Figure size 640x480 with 1 Axes>"
            ],
            "image/png": "[encoded data removed]"
          },
          "metadata": {}
        }
      ]
    },
    {
      "cell_type": "code",
      "source": [
        "sns.scatterplot(df, x='Commute', y='Weight', hue='Beverage', style='Beverage')"
      ],
      "metadata": {
        "colab": {
          "base_uri": "https://localhost:8080/",
          "height": 466
        },
        "id": "RPYcUq_b1w8V",
        "outputId": "71ce00fd-28a0-40f2-89ad-769b75e51a5e"
      },
      "execution_count": null,
      "outputs": [
        {
          "output_type": "execute_result",
          "data": {
            "text/plain": [
              "<Axes: xlabel='Commute', ylabel='Weight'>"
            ]
          },
          "metadata": {},
          "execution_count": 363
        },
        {
          "output_type": "display_data",
          "data": {
            "text/plain": [
              "<Figure size 640x480 with 1 Axes>"
            ],
            "image/png": "[encoded data removed]"
          },
          "metadata": {}
        }
      ]
    },
    {
      "cell_type": "markdown",
      "source": [
        "I first visualized the beverage distrubition because I think it could be significant later on. The distrubuition was fairly equal.  I then visualized the beverage choice by weight to see if there was a significant difference between beverage choices. It looked like there was less outliers for tea users but the medians were all closely aligned. I also used scatterplots to show beverage choice by Birthday and water consumption and by weight and commute. Birthday and water was all over the place but it looked like commute went from coffee to tea and cocoa to cider users for commute length in general."
      ],
      "metadata": {
        "id": "RKWkTd2x2zQt"
      }
    },
    {
      "cell_type": "markdown",
      "source": [
        "To clean the data I dropped unhelpful columns like ID and Name. I gave columns the correct data type and filled null values. I also created a job column and multiple columns for pets."
      ],
      "metadata": {
        "id": "IH-Dx8WH7Zdv"
      }
    },
    {
      "cell_type": "markdown",
      "source": [
        "Make exercise an ordinal map"
      ],
      "metadata": {
        "id": "8VDb_-sER7rB"
      }
    },
    {
      "cell_type": "code",
      "source": [
        "ord_map = {\n",
        "    'High': 1,\n",
        "    'Medium': 2,\n",
        "    'Low': 3,\n",
        "    'None': 4,\n",
        "}\n",
        "\n",
        "df['Exercise'] = df['Exercise'].map(ord_map)"
      ],
      "metadata": {
        "id": "4R5XxzAL2uiM"
      },
      "execution_count": null,
      "outputs": []
    },
    {
      "cell_type": "markdown",
      "source": [
        "Convert pronoun to numeric order"
      ],
      "metadata": {
        "id": "kepHX7L2SBow"
      }
    },
    {
      "cell_type": "code",
      "source": [
        "ord_map = {\n",
        "    'he': 1,\n",
        "    'they': 2,\n",
        "    'she': 3,\n",
        "}\n",
        "\n",
        "df['Pronoun'] = df['Pronoun'].map(ord_map)"
      ],
      "metadata": {
        "id": "ckyIb64C_udO"
      },
      "execution_count": null,
      "outputs": []
    },
    {
      "cell_type": "markdown",
      "source": [
        "Gives each job a number value"
      ],
      "metadata": {
        "id": "Hjj4a2KrGD1i"
      }
    },
    {
      "cell_type": "code",
      "source": [
        "# https://scikit-learn.org/stable/modules/generated/sklearn.preprocessing.LabelEncoder.html\n",
        "from sklearn.preprocessing import LabelEncoder\n",
        "label_encoder = LabelEncoder()\n",
        "df['Job'] = label_encoder.fit_transform(df['Job'])"
      ],
      "metadata": {
        "id": "LoBH9-blAioG"
      },
      "execution_count": null,
      "outputs": []
    },
    {
      "cell_type": "markdown",
      "source": [
        "Replace the pet columns with numbers"
      ],
      "metadata": {
        "id": "IsNHVV7aSH2u"
      }
    },
    {
      "cell_type": "code",
      "source": [
        "df['Dog'] = df['Dog'].replace([True], 1)\n",
        "df['Dog'] = df['Dog'].replace([False], 0)\n",
        "df['Cat'] = df['Cat'].replace([True], 1)\n",
        "df['Cat'] = df['Cat'].replace([False], 0)\n",
        "df['Fish'] = df['Fish'].replace([True], 1)\n",
        "df['Fish'] = df['Fish'].replace([False], 0)\n",
        "df['Hamster'] = df['Hamster'].replace([True], 1)\n",
        "df['Hamster'] = df['Hamster'].replace([False], 0)\n",
        "df['Lizard'] = df['Lizard'].replace([True], 1)\n",
        "df['Lizard'] = df['Lizard'].replace([False], 0)\n"
      ],
      "metadata": {
        "id": "Xl7cgWjXEiTf"
      },
      "execution_count": null,
      "outputs": []
    },
    {
      "cell_type": "code",
      "source": [
        "df"
      ],
      "metadata": {
        "colab": {
          "base_uri": "https://localhost:8080/",
          "height": 423
        },
        "id": "cokkcZLHADcP",
        "outputId": "64186467-18f3-4985-a511-3858ba5487ca"
      },
      "execution_count": null,
      "outputs": [
        {
          "output_type": "execute_result",
          "data": {
            "text/plain": [
              "      Pronoun  Weight  ZipCode  SqFt       Water  Shoes  Commute  NumKids  \\\n",
              "0           1  176.35     6861  2181   81.300000      7    40.81      2.0   \n",
              "1           2  194.64     8161  2272   82.135302      5    23.48      2.0   \n",
              "2           1  195.02      221  2029   21.920000     14    44.74      1.0   \n",
              "3           3  153.16      221  2592  153.920000      2    24.76      0.0   \n",
              "4           3  151.59     7770  1069   84.859533     10    43.95      2.0   \n",
              "...       ...     ...      ...   ...         ...    ...      ...      ...   \n",
              "1495        2  135.31      221  1808   36.990000      9     5.37      1.0   \n",
              "1496        3  194.04      221  2027  162.050000      5     3.43      3.0   \n",
              "1497        1  155.53     6861  2174  150.020000      6    44.01      4.0   \n",
              "1498        3  187.42      221  1546  126.710000      5    12.13      2.0   \n",
              "1499        3  184.35     6861  2385   78.460000      4    40.28      2.0   \n",
              "\n",
              "      Exercise Beverage  Job  Age  Dog  Cat  Fish  Hamster  Lizard  pet_counts  \n",
              "0            1    Cider    9   52    0    0     1        0       0           1  \n",
              "1            1      Tea   10   24    0    1     0        0       0           2  \n",
              "2            4    Cider    7   66    1    0     1        0       0           2  \n",
              "3            4   Coffee    4   18    1    0     0        0       0           2  \n",
              "4            3   Coffee    4   87    0    0     0        0       0           1  \n",
              "...        ...      ...  ...  ...  ...  ...   ...      ...     ...         ...  \n",
              "1495         1      Tea    1   33    1    0     0        0       0           1  \n",
              "1496         4   Coffee    4   18    0    0     0        0       0           1  \n",
              "1497         3    Cider   10   60    0    0     0        1       0           1  \n",
              "1498         4      Tea    6   40    1    0     0        0       0           2  \n",
              "1499         2    Cider    9   87    0    0     1        0       0           1  \n",
              "\n",
              "[1500 rows x 18 columns]"
            ],
            "text/html": [
              "\n",
              "  <div id=\"df-b85a6ca1-ebc1-4f01-aa0f-25d03996ddf2\" class=\"colab-df-container\">\n",
              "    <div>\n",
              "<style scoped>\n",
              "    .dataframe tbody tr th:only-of-type {\n",
              "        vertical-align: middle;\n",
              "    }\n",
              "\n",
              "    .dataframe tbody tr th {\n",
              "        vertical-align: top;\n",
              "    }\n",
              "\n",
              "    .dataframe thead th {\n",
              "        text-align: right;\n",
              "    }\n",
              "</style>\n",
              "<table border=\"1\" class=\"dataframe\">\n",
              "  <thead>\n",
              "    <tr style=\"text-align: right;\">\n",
              "      <th></th>\n",
              "      <th>Pronoun</th>\n",
              "      <th>Weight</th>\n",
              "      <th>ZipCode</th>\n",
              "      <th>SqFt</th>\n",
              "      <th>Water</th>\n",
              "      <th>Shoes</th>\n",
              "      <th>Commute</th>\n",
              "      <th>NumKids</th>\n",
              "      <th>Exercise</th>\n",
              "      <th>Beverage</th>\n",
              "      <th>Job</th>\n",
              "      <th>Age</th>\n",
              "      <th>Dog</th>\n",
              "      <th>Cat</th>\n",
              "      <th>Fish</th>\n",
              "      <th>Hamster</th>\n",
              "      <th>Lizard</th>\n",
              "      <th>pet_counts</th>\n",
              "    </tr>\n",
              "  </thead>\n",
              "  <tbody>\n",
              "    <tr>\n",
              "      <th>0</th>\n",
              "      <td>1</td>\n",
              "      <td>176.35</td>\n",
              "      <td>6861</td>\n",
              "      <td>2181</td>\n",
              "      <td>81.300000</td>\n",
              "      <td>7</td>\n",
              "      <td>40.81</td>\n",
              "      <td>2.0</td>\n",
              "      <td>1</td>\n",
              "      <td>Cider</td>\n",
              "      <td>9</td>\n",
              "      <td>52</td>\n",
              "      <td>0</td>\n",
              "      <td>0</td>\n",
              "      <td>1</td>\n",
              "      <td>0</td>\n",
              "      <td>0</td>\n",
              "      <td>1</td>\n",
              "    </tr>\n",
              "    <tr>\n",
              "      <th>1</th>\n",
              "      <td>2</td>\n",
              "      <td>194.64</td>\n",
              "      <td>8161</td>\n",
              "      <td>2272</td>\n",
              "      <td>82.135302</td>\n",
              "      <td>5</td>\n",
              "      <td>23.48</td>\n",
              "      <td>2.0</td>\n",
              "      <td>1</td>\n",
              "      <td>Tea</td>\n",
              "      <td>10</td>\n",
              "      <td>24</td>\n",
              "      <td>0</td>\n",
              "      <td>1</td>\n",
              "      <td>0</td>\n",
              "      <td>0</td>\n",
              "      <td>0</td>\n",
              "      <td>2</td>\n",
              "    </tr>\n",
              "    <tr>\n",
              "      <th>2</th>\n",
              "      <td>1</td>\n",
              "      <td>195.02</td>\n",
              "      <td>221</td>\n",
              "      <td>2029</td>\n",
              "      <td>21.920000</td>\n",
              "      <td>14</td>\n",
              "      <td>44.74</td>\n",
              "      <td>1.0</td>\n",
              "      <td>4</td>\n",
              "      <td>Cider</td>\n",
              "      <td>7</td>\n",
              "      <td>66</td>\n",
              "      <td>1</td>\n",
              "      <td>0</td>\n",
              "      <td>1</td>\n",
              "      <td>0</td>\n",
              "      <td>0</td>\n",
              "      <td>2</td>\n",
              "    </tr>\n",
              "    <tr>\n",
              "      <th>3</th>\n",
              "      <td>3</td>\n",
              "      <td>153.16</td>\n",
              "      <td>221</td>\n",
              "      <td>2592</td>\n",
              "      <td>153.920000</td>\n",
              "      <td>2</td>\n",
              "      <td>24.76</td>\n",
              "      <td>0.0</td>\n",
              "      <td>4</td>\n",
              "      <td>Coffee</td>\n",
              "      <td>4</td>\n",
              "      <td>18</td>\n",
              "      <td>1</td>\n",
              "      <td>0</td>\n",
              "      <td>0</td>\n",
              "      <td>0</td>\n",
              "      <td>0</td>\n",
              "      <td>2</td>\n",
              "    </tr>\n",
              "    <tr>\n",
              "      <th>4</th>\n",
              "      <td>3</td>\n",
              "      <td>151.59</td>\n",
              "      <td>7770</td>\n",
              "      <td>1069</td>\n",
              "      <td>84.859533</td>\n",
              "      <td>10</td>\n",
              "      <td>43.95</td>\n",
              "      <td>2.0</td>\n",
              "      <td>3</td>\n",
              "      <td>Coffee</td>\n",
              "      <td>4</td>\n",
              "      <td>87</td>\n",
              "      <td>0</td>\n",
              "      <td>0</td>\n",
              "      <td>0</td>\n",
              "      <td>0</td>\n",
              "      <td>0</td>\n",
              "      <td>1</td>\n",
              "    </tr>\n",
              "    <tr>\n",
              "      <th>...</th>\n",
              "      <td>...</td>\n",
              "      <td>...</td>\n",
              "      <td>...</td>\n",
              "      <td>...</td>\n",
              "      <td>...</td>\n",
              "      <td>...</td>\n",
              "      <td>...</td>\n",
              "      <td>...</td>\n",
              "      <td>...</td>\n",
              "      <td>...</td>\n",
              "      <td>...</td>\n",
              "      <td>...</td>\n",
              "      <td>...</td>\n",
              "      <td>...</td>\n",
              "      <td>...</td>\n",
              "      <td>...</td>\n",
              "      <td>...</td>\n",
              "      <td>...</td>\n",
              "    </tr>\n",
              "    <tr>\n",
              "      <th>1495</th>\n",
              "      <td>2</td>\n",
              "      <td>135.31</td>\n",
              "      <td>221</td>\n",
              "      <td>1808</td>\n",
              "      <td>36.990000</td>\n",
              "      <td>9</td>\n",
              "      <td>5.37</td>\n",
              "      <td>1.0</td>\n",
              "      <td>1</td>\n",
              "      <td>Tea</td>\n",
              "      <td>1</td>\n",
              "      <td>33</td>\n",
              "      <td>1</td>\n",
              "      <td>0</td>\n",
              "      <td>0</td>\n",
              "      <td>0</td>\n",
              "      <td>0</td>\n",
              "      <td>1</td>\n",
              "    </tr>\n",
              "    <tr>\n",
              "      <th>1496</th>\n",
              "      <td>3</td>\n",
              "      <td>194.04</td>\n",
              "      <td>221</td>\n",
              "      <td>2027</td>\n",
              "      <td>162.050000</td>\n",
              "      <td>5</td>\n",
              "      <td>3.43</td>\n",
              "      <td>3.0</td>\n",
              "      <td>4</td>\n",
              "      <td>Coffee</td>\n",
              "      <td>4</td>\n",
              "      <td>18</td>\n",
              "      <td>0</td>\n",
              "      <td>0</td>\n",
              "      <td>0</td>\n",
              "      <td>0</td>\n",
              "      <td>0</td>\n",
              "      <td>1</td>\n",
              "    </tr>\n",
              "    <tr>\n",
              "      <th>1497</th>\n",
              "      <td>1</td>\n",
              "      <td>155.53</td>\n",
              "      <td>6861</td>\n",
              "      <td>2174</td>\n",
              "      <td>150.020000</td>\n",
              "      <td>6</td>\n",
              "      <td>44.01</td>\n",
              "      <td>4.0</td>\n",
              "      <td>3</td>\n",
              "      <td>Cider</td>\n",
              "      <td>10</td>\n",
              "      <td>60</td>\n",
              "      <td>0</td>\n",
              "      <td>0</td>\n",
              "      <td>0</td>\n",
              "      <td>1</td>\n",
              "      <td>0</td>\n",
              "      <td>1</td>\n",
              "    </tr>\n",
              "    <tr>\n",
              "      <th>1498</th>\n",
              "      <td>3</td>\n",
              "      <td>187.42</td>\n",
              "      <td>221</td>\n",
              "      <td>1546</td>\n",
              "      <td>126.710000</td>\n",
              "      <td>5</td>\n",
              "      <td>12.13</td>\n",
              "      <td>2.0</td>\n",
              "      <td>4</td>\n",
              "      <td>Tea</td>\n",
              "      <td>6</td>\n",
              "      <td>40</td>\n",
              "      <td>1</td>\n",
              "      <td>0</td>\n",
              "      <td>0</td>\n",
              "      <td>0</td>\n",
              "      <td>0</td>\n",
              "      <td>2</td>\n",
              "    </tr>\n",
              "    <tr>\n",
              "      <th>1499</th>\n",
              "      <td>3</td>\n",
              "      <td>184.35</td>\n",
              "      <td>6861</td>\n",
              "      <td>2385</td>\n",
              "      <td>78.460000</td>\n",
              "      <td>4</td>\n",
              "      <td>40.28</td>\n",
              "      <td>2.0</td>\n",
              "      <td>2</td>\n",
              "      <td>Cider</td>\n",
              "      <td>9</td>\n",
              "      <td>87</td>\n",
              "      <td>0</td>\n",
              "      <td>0</td>\n",
              "      <td>1</td>\n",
              "      <td>0</td>\n",
              "      <td>0</td>\n",
              "      <td>1</td>\n",
              "    </tr>\n",
              "  </tbody>\n",
              "</table>\n",
              "<p>1500 rows × 18 columns</p>\n",
              "</div>\n",
              "    <div class=\"colab-df-buttons\">\n",
              "\n",
              "  <div class=\"colab-df-container\">\n",
              "    <button class=\"colab-df-convert\" onclick=\"convertToInteractive('df-b85a6ca1-ebc1-4f01-aa0f-25d03996ddf2')\"\n",
              "            title=\"Convert this dataframe to an interactive table.\"\n",
              "            style=\"display:none;\">\n",
              "\n",
              "  <svg xmlns=\"http://www.w3.org/2000/svg\" height=\"24px\" viewBox=\"0 -960 960 960\">\n",
              "    <path d=\"M120-120v-720h720v720H120Zm60-500h600v-160H180v160Zm220 220h160v-160H400v160Zm0 220h160v-160H400v160ZM180-400h160v-160H180v160Zm440 0h160v-160H620v160ZM180-180h160v-160H180v160Zm440 0h160v-160H620v160Z\"/>\n",
              "  </svg>\n",
              "    </button>\n",
              "\n",
              "  <style>\n",
              "    .colab-df-container {\n",
              "      display:flex;\n",
              "      gap: 12px;\n",
              "    }\n",
              "\n",
              "    .colab-df-convert {\n",
              "      background-color: #E8F0FE;\n",
              "      border: none;\n",
              "      border-radius: 50%;\n",
              "      cursor: pointer;\n",
              "      display: none;\n",
              "      fill: #1967D2;\n",
              "      height: 32px;\n",
              "      padding: 0 0 0 0;\n",
              "      width: 32px;\n",
              "    }\n",
              "\n",
              "    .colab-df-convert:hover {\n",
              "      background-color: #E2EBFA;\n",
              "      box-shadow: 0px 1px 2px rgba(60, 64, 67, 0.3), 0px 1px 3px 1px rgba(60, 64, 67, 0.15);\n",
              "      fill: #174EA6;\n",
              "    }\n",
              "\n",
              "    .colab-df-buttons div {\n",
              "      margin-bottom: 4px;\n",
              "    }\n",
              "\n",
              "    [theme=dark] .colab-df-convert {\n",
              "      background-color: #3B4455;\n",
              "      fill: #D2E3FC;\n",
              "    }\n",
              "\n",
              "    [theme=dark] .colab-df-convert:hover {\n",
              "      background-color: #434B5C;\n",
              "      box-shadow: 0px 1px 3px 1px rgba(0, 0, 0, 0.15);\n",
              "      filter: drop-shadow(0px 1px 2px rgba(0, 0, 0, 0.3));\n",
              "      fill: #FFFFFF;\n",
              "    }\n",
              "  </style>\n",
              "\n",
              "    <script>\n",
              "      const buttonEl =\n",
              "        document.querySelector('#df-b85a6ca1-ebc1-4f01-aa0f-25d03996ddf2 button.colab-df-convert');\n",
              "      buttonEl.style.display =\n",
              "        google.colab.kernel.accessAllowed ? 'block' : 'none';\n",
              "\n",
              "      async function convertToInteractive(key) {\n",
              "        const element = document.querySelector('#df-b85a6ca1-ebc1-4f01-aa0f-25d03996ddf2');\n",
              "        const dataTable =\n",
              "          await google.colab.kernel.invokeFunction('convertToInteractive',\n",
              "                                                    [key], {});\n",
              "        if (!dataTable) return;\n",
              "\n",
              "        const docLinkHtml = 'Like what you see? Visit the ' +\n",
              "          '<a target=\"_blank\" href=https://colab.research.google.com/notebooks/data_table.ipynb>data table notebook</a>'\n",
              "          + ' to learn more about interactive tables.';\n",
              "        element.innerHTML = '';\n",
              "        dataTable['output_type'] = 'display_data';\n",
              "        await google.colab.output.renderOutput(dataTable, element);\n",
              "        const docLink = document.createElement('div');\n",
              "        docLink.innerHTML = docLinkHtml;\n",
              "        element.appendChild(docLink);\n",
              "      }\n",
              "    </script>\n",
              "  </div>\n",
              "\n",
              "\n",
              "<div id=\"df-9be69651-1fe5-49da-9756-cb9daa434b87\">\n",
              "  <button class=\"colab-df-quickchart\" onclick=\"quickchart('df-9be69651-1fe5-49da-9756-cb9daa434b87')\"\n",
              "            title=\"Suggest charts\"\n",
              "            style=\"display:none;\">\n",
              "\n",
              "<svg xmlns=\"http://www.w3.org/2000/svg\" height=\"24px\"viewBox=\"0 0 24 24\"\n",
              "     width=\"24px\">\n",
              "    <g>\n",
              "        <path d=\"M19 3H5c-1.1 0-2 .9-2 2v14c0 1.1.9 2 2 2h14c1.1 0 2-.9 2-2V5c0-1.1-.9-2-2-2zM9 17H7v-7h2v7zm4 0h-2V7h2v10zm4 0h-2v-4h2v4z\"/>\n",
              "    </g>\n",
              "</svg>\n",
              "  </button>\n",
              "\n",
              "<style>\n",
              "  .colab-df-quickchart {\n",
              "      --bg-color: #E8F0FE;\n",
              "      --fill-color: #1967D2;\n",
              "      --hover-bg-color: #E2EBFA;\n",
              "      --hover-fill-color: #174EA6;\n",
              "      --disabled-fill-color: #AAA;\n",
              "      --disabled-bg-color: #DDD;\n",
              "  }\n",
              "\n",
              "  [theme=dark] .colab-df-quickchart {\n",
              "      --bg-color: #3B4455;\n",
              "      --fill-color: #D2E3FC;\n",
              "      --hover-bg-color: #434B5C;\n",
              "      --hover-fill-color: #FFFFFF;\n",
              "      --disabled-bg-color: #3B4455;\n",
              "      --disabled-fill-color: #666;\n",
              "  }\n",
              "\n",
              "  .colab-df-quickchart {\n",
              "    background-color: var(--bg-color);\n",
              "    border: none;\n",
              "    border-radius: 50%;\n",
              "    cursor: pointer;\n",
              "    display: none;\n",
              "    fill: var(--fill-color);\n",
              "    height: 32px;\n",
              "    padding: 0;\n",
              "    width: 32px;\n",
              "  }\n",
              "\n",
              "  .colab-df-quickchart:hover {\n",
              "    background-color: var(--hover-bg-color);\n",
              "    box-shadow: 0 1px 2px rgba(60, 64, 67, 0.3), 0 1px 3px 1px rgba(60, 64, 67, 0.15);\n",
              "    fill: var(--button-hover-fill-color);\n",
              "  }\n",
              "\n",
              "  .colab-df-quickchart-complete:disabled,\n",
              "  .colab-df-quickchart-complete:disabled:hover {\n",
              "    background-color: var(--disabled-bg-color);\n",
              "    fill: var(--disabled-fill-color);\n",
              "    box-shadow: none;\n",
              "  }\n",
              "\n",
              "  .colab-df-spinner {\n",
              "    border: 2px solid var(--fill-color);\n",
              "    border-color: transparent;\n",
              "    border-bottom-color: var(--fill-color);\n",
              "    animation:\n",
              "      spin 1s steps(1) infinite;\n",
              "  }\n",
              "\n",
              "  @keyframes spin {\n",
              "    0% {\n",
              "      border-color: transparent;\n",
              "      border-bottom-color: var(--fill-color);\n",
              "      border-left-color: var(--fill-color);\n",
              "    }\n",
              "    20% {\n",
              "      border-color: transparent;\n",
              "      border-left-color: var(--fill-color);\n",
              "      border-top-color: var(--fill-color);\n",
              "    }\n",
              "    30% {\n",
              "      border-color: transparent;\n",
              "      border-left-color: var(--fill-color);\n",
              "      border-top-color: var(--fill-color);\n",
              "      border-right-color: var(--fill-color);\n",
              "    }\n",
              "    40% {\n",
              "      border-color: transparent;\n",
              "      border-right-color: var(--fill-color);\n",
              "      border-top-color: var(--fill-color);\n",
              "    }\n",
              "    60% {\n",
              "      border-color: transparent;\n",
              "      border-right-color: var(--fill-color);\n",
              "    }\n",
              "    80% {\n",
              "      border-color: transparent;\n",
              "      border-right-color: var(--fill-color);\n",
              "      border-bottom-color: var(--fill-color);\n",
              "    }\n",
              "    90% {\n",
              "      border-color: transparent;\n",
              "      border-bottom-color: var(--fill-color);\n",
              "    }\n",
              "  }\n",
              "</style>\n",
              "\n",
              "  <script>\n",
              "    async function quickchart(key) {\n",
              "      const quickchartButtonEl =\n",
              "        document.querySelector('#' + key + ' button');\n",
              "      quickchartButtonEl.disabled = true;  // To prevent multiple clicks.\n",
              "      quickchartButtonEl.classList.add('colab-df-spinner');\n",
              "      try {\n",
              "        const charts = await google.colab.kernel.invokeFunction(\n",
              "            'suggestCharts', [key], {});\n",
              "      } catch (error) {\n",
              "        console.error('Error during call to suggestCharts:', error);\n",
              "      }\n",
              "      quickchartButtonEl.classList.remove('colab-df-spinner');\n",
              "      quickchartButtonEl.classList.add('colab-df-quickchart-complete');\n",
              "    }\n",
              "    (() => {\n",
              "      let quickchartButtonEl =\n",
              "        document.querySelector('#df-9be69651-1fe5-49da-9756-cb9daa434b87 button');\n",
              "      quickchartButtonEl.style.display =\n",
              "        google.colab.kernel.accessAllowed ? 'block' : 'none';\n",
              "    })();\n",
              "  </script>\n",
              "</div>\n",
              "\n",
              "  <div id=\"id_71bf524d-aa84-4d8d-b0dc-d595c5499ccd\">\n",
              "    <style>\n",
              "      .colab-df-generate {\n",
              "        background-color: #E8F0FE;\n",
              "        border: none;\n",
              "        border-radius: 50%;\n",
              "        cursor: pointer;\n",
              "        display: none;\n",
              "        fill: #1967D2;\n",
              "        height: 32px;\n",
              "        padding: 0 0 0 0;\n",
              "        width: 32px;\n",
              "      }\n",
              "\n",
              "      .colab-df-generate:hover {\n",
              "        background-color: #E2EBFA;\n",
              "        box-shadow: 0px 1px 2px rgba(60, 64, 67, 0.3), 0px 1px 3px 1px rgba(60, 64, 67, 0.15);\n",
              "        fill: #174EA6;\n",
              "      }\n",
              "\n",
              "      [theme=dark] .colab-df-generate {\n",
              "        background-color: #3B4455;\n",
              "        fill: #D2E3FC;\n",
              "      }\n",
              "\n",
              "      [theme=dark] .colab-df-generate:hover {\n",
              "        background-color: #434B5C;\n",
              "        box-shadow: 0px 1px 3px 1px rgba(0, 0, 0, 0.15);\n",
              "        filter: drop-shadow(0px 1px 2px rgba(0, 0, 0, 0.3));\n",
              "        fill: #FFFFFF;\n",
              "      }\n",
              "    </style>\n",
              "    <button class=\"colab-df-generate\" onclick=\"generateWithVariable('df')\"\n",
              "            title=\"Generate code using this dataframe.\"\n",
              "            style=\"display:none;\">\n",
              "\n",
              "  <svg xmlns=\"http://www.w3.org/2000/svg\" height=\"24px\"viewBox=\"0 0 24 24\"\n",
              "       width=\"24px\">\n",
              "    <path d=\"M7,19H8.4L18.45,9,17,7.55,7,17.6ZM5,21V16.75L18.45,3.32a2,2,0,0,1,2.83,0l1.4,1.43a1.91,1.91,0,0,1,.58,1.4,1.91,1.91,0,0,1-.58,1.4L9.25,21ZM18.45,9,17,7.55Zm-12,3A5.31,5.31,0,0,0,4.9,8.1,5.31,5.31,0,0,0,1,6.5,5.31,5.31,0,0,0,4.9,4.9,5.31,5.31,0,0,0,6.5,1,5.31,5.31,0,0,0,8.1,4.9,5.31,5.31,0,0,0,12,6.5,5.46,5.46,0,0,0,6.5,12Z\"/>\n",
              "  </svg>\n",
              "    </button>\n",
              "    <script>\n",
              "      (() => {\n",
              "      const buttonEl =\n",
              "        document.querySelector('#id_71bf524d-aa84-4d8d-b0dc-d595c5499ccd button.colab-df-generate');\n",
              "      buttonEl.style.display =\n",
              "        google.colab.kernel.accessAllowed ? 'block' : 'none';\n",
              "\n",
              "      buttonEl.onclick = () => {\n",
              "        google.colab.notebook.generateWithVariable('df');\n",
              "      }\n",
              "      })();\n",
              "    </script>\n",
              "  </div>\n",
              "\n",
              "    </div>\n",
              "  </div>\n"
            ],
            "application/vnd.google.colaboratory.intrinsic+json": {
              "type": "dataframe",
              "variable_name": "df",
              "summary": "{\n  \"name\": \"df\",\n  \"rows\": 1500,\n  \"fields\": [\n    {\n      \"column\": \"Pronoun\",\n      \"properties\": {\n        \"dtype\": \"number\",\n        \"std\": 0,\n        \"min\": 1,\n        \"max\": 3,\n        \"num_unique_values\": 3,\n        \"samples\": [\n          1,\n          2,\n          3\n        ],\n        \"semantic_type\": \"\",\n        \"description\": \"\"\n      }\n    },\n    {\n      \"column\": \"Weight\",\n      \"properties\": {\n        \"dtype\": \"number\",\n        \"std\": 44.248954381473524,\n        \"min\": 130.14,\n        \"max\": 379.94,\n        \"num_unique_values\": 1382,\n        \"samples\": [\n          173.38,\n          144.01,\n          137.27\n        ],\n        \"semantic_type\": \"\",\n        \"description\": \"\"\n      }\n    },\n    {\n      \"column\": \"ZipCode\",\n      \"properties\": {\n        \"dtype\": \"number\",\n        \"std\": 3123,\n        \"min\": 221,\n        \"max\": 8161,\n        \"num_unique_values\": 10,\n        \"samples\": [\n          445,\n          8161,\n          4532\n        ],\n        \"semantic_type\": \"\",\n        \"description\": \"\"\n      }\n    },\n    {\n      \"column\": \"SqFt\",\n      \"properties\": {\n        \"dtype\": \"number\",\n        \"std\": 612,\n        \"min\": -1000,\n        \"max\": 6494,\n        \"num_unique_values\": 970,\n        \"samples\": [\n          1302,\n          1594,\n          1650\n        ],\n        \"semantic_type\": \"\",\n        \"description\": \"\"\n      }\n    },\n    {\n      \"column\": \"Water\",\n      \"properties\": {\n        \"dtype\": \"number\",\n        \"std\": 39.58889005622133,\n        \"min\": -44.21,\n        \"max\": 215.79,\n        \"num_unique_values\": 1414,\n        \"samples\": [\n          46.32,\n          69.57,\n          93.05\n        ],\n        \"semantic_type\": \"\",\n        \"description\": \"\"\n      }\n    },\n    {\n      \"column\": \"Shoes\",\n      \"properties\": {\n        \"dtype\": \"number\",\n        \"std\": 3,\n        \"min\": 0,\n        \"max\": 22,\n        \"num_unique_values\": 22,\n        \"samples\": [\n          7,\n          13,\n          12\n        ],\n        \"semantic_type\": \"\",\n        \"description\": \"\"\n      }\n    },\n    {\n      \"column\": \"Commute\",\n      \"properties\": {\n        \"dtype\": \"number\",\n        \"std\": 18.249749851885454,\n        \"min\": 0.0,\n        \"max\": 110.72,\n        \"num_unique_values\": 1311,\n        \"samples\": [\n          29.01,\n          18.08,\n          14.56\n        ],\n        \"semantic_type\": \"\",\n        \"description\": \"\"\n      }\n    },\n    {\n      \"column\": \"NumKids\",\n      \"properties\": {\n        \"dtype\": \"number\",\n        \"std\": 1.3281594635419172,\n        \"min\": 0.0,\n        \"max\": 6.0,\n        \"num_unique_values\": 7,\n        \"samples\": [\n          2.0,\n          1.0,\n          6.0\n        ],\n        \"semantic_type\": \"\",\n        \"description\": \"\"\n      }\n    },\n    {\n      \"column\": \"Exercise\",\n      \"properties\": {\n        \"dtype\": \"number\",\n        \"std\": 1,\n        \"min\": 1,\n        \"max\": 4,\n        \"num_unique_values\": 4,\n        \"samples\": [\n          4,\n          2,\n          1\n        ],\n        \"semantic_type\": \"\",\n        \"description\": \"\"\n      }\n    },\n    {\n      \"column\": \"Beverage\",\n      \"properties\": {\n        \"dtype\": \"category\",\n        \"num_unique_values\": 4,\n        \"samples\": [\n          \"Tea\",\n          \"Cocoa\",\n          \"Cider\"\n        ],\n        \"semantic_type\": \"\",\n        \"description\": \"\"\n      }\n    },\n    {\n      \"column\": \"Job\",\n      \"properties\": {\n        \"dtype\": \"number\",\n        \"std\": 3,\n        \"min\": 0,\n        \"max\": 12,\n        \"num_unique_values\": 13,\n        \"samples\": [\n          5,\n          2,\n          9\n        ],\n        \"semantic_type\": \"\",\n        \"description\": \"\"\n      }\n    },\n    {\n      \"column\": \"Age\",\n      \"properties\": {\n        \"dtype\": \"int32\",\n        \"num_unique_values\": 83,\n        \"samples\": [\n          56,\n          52,\n          39\n        ],\n        \"semantic_type\": \"\",\n        \"description\": \"\"\n      }\n    },\n    {\n      \"column\": \"Dog\",\n      \"properties\": {\n        \"dtype\": \"number\",\n        \"std\": 0,\n        \"min\": 0,\n        \"max\": 1,\n        \"num_unique_values\": 2,\n        \"samples\": [\n          1,\n          0\n        ],\n        \"semantic_type\": \"\",\n        \"description\": \"\"\n      }\n    },\n    {\n      \"column\": \"Cat\",\n      \"properties\": {\n        \"dtype\": \"number\",\n        \"std\": 0,\n        \"min\": 0,\n        \"max\": 1,\n        \"num_unique_values\": 2,\n        \"samples\": [\n          1,\n          0\n        ],\n        \"semantic_type\": \"\",\n        \"description\": \"\"\n      }\n    },\n    {\n      \"column\": \"Fish\",\n      \"properties\": {\n        \"dtype\": \"number\",\n        \"std\": 0,\n        \"min\": 0,\n        \"max\": 1,\n        \"num_unique_values\": 2,\n        \"samples\": [\n          0,\n          1\n        ],\n        \"semantic_type\": \"\",\n        \"description\": \"\"\n      }\n    },\n    {\n      \"column\": \"Hamster\",\n      \"properties\": {\n        \"dtype\": \"number\",\n        \"std\": 0,\n        \"min\": 0,\n        \"max\": 1,\n        \"num_unique_values\": 2,\n        \"samples\": [\n          1,\n          0\n        ],\n        \"semantic_type\": \"\",\n        \"description\": \"\"\n      }\n    },\n    {\n      \"column\": \"Lizard\",\n      \"properties\": {\n        \"dtype\": \"number\",\n        \"std\": 0,\n        \"min\": 0,\n        \"max\": 1,\n        \"num_unique_values\": 2,\n        \"samples\": [\n          1,\n          0\n        ],\n        \"semantic_type\": \"\",\n        \"description\": \"\"\n      }\n    },\n    {\n      \"column\": \"pet_counts\",\n      \"properties\": {\n        \"dtype\": \"number\",\n        \"std\": 1,\n        \"min\": 1,\n        \"max\": 6,\n        \"num_unique_values\": 6,\n        \"samples\": [\n          1,\n          2\n        ],\n        \"semantic_type\": \"\",\n        \"description\": \"\"\n      }\n    }\n  ]\n}"
            }
          },
          "metadata": {},
          "execution_count": 368
        }
      ]
    },
    {
      "cell_type": "markdown",
      "source": [
        "Ready for machine learning"
      ],
      "metadata": {
        "id": "hJyZDpATSNRA"
      }
    },
    {
      "cell_type": "code",
      "source": [
        "X = df.drop(['Beverage'], axis=1)\n",
        "y = df['Beverage']"
      ],
      "metadata": {
        "id": "IL3KE2YP9Xox"
      },
      "execution_count": null,
      "outputs": []
    },
    {
      "cell_type": "code",
      "source": [
        "Xtrain, Xtest, ytrain, ytest = train_test_split(X, y, test_size=0.5, random_state=10)"
      ],
      "metadata": {
        "id": "UZIxPobs8gjx"
      },
      "execution_count": null,
      "outputs": []
    },
    {
      "cell_type": "markdown",
      "source": [
        "#1 RandomForestClassifier"
      ],
      "metadata": {
        "id": "ogWQWPh7ORa6"
      }
    },
    {
      "cell_type": "code",
      "source": [
        "from sklearn.model_selection import validation_curve\n",
        "from sklearn.metrics import accuracy_score\n",
        "from sklearn.ensemble import RandomForestClassifier\n",
        "\n",
        "\n",
        "# trees = np.arange(1, 400, 20)\n",
        "\n",
        "# train_scores, valid_scores = validation_curve(\n",
        "#     RandomForestClassifier(), Xtrain, ytrain,\n",
        "#     param_name=\"n_estimators\", param_range=trees, cv=3)\n",
        "\n",
        "# fig, ax = plt.subplots()\n",
        "# ax.plot(trees, train_scores.mean(axis=1), '.-k', label='Training')\n",
        "# ax.plot(trees, valid_scores.mean(axis=1), '.:b', label='Validation')\n",
        "# ax.set_xlabel('n_estimators')\n",
        "# ax.set_ylabel('Accuracy')\n",
        "# ax.set_title('Random Forest Accuracy vs n_estimators')\n",
        "# ax.legend()"
      ],
      "metadata": {
        "id": "uzqDwb1E-672"
      },
      "execution_count": null,
      "outputs": []
    },
    {
      "cell_type": "markdown",
      "source": [
        "150 to 175 looks liked the best"
      ],
      "metadata": {
        "id": "eGkcNsDzNcsb"
      }
    },
    {
      "cell_type": "code",
      "source": [
        "from sklearn.model_selection import validation_curve\n",
        "from sklearn.metrics import accuracy_score\n",
        "from sklearn.ensemble import RandomForestClassifier\n",
        "\n",
        "\n",
        "# trees = np.arange(150, 175)\n",
        "\n",
        "# train_scores, valid_scores = validation_curve(\n",
        "#     RandomForestClassifier(), Xtrain, ytrain,\n",
        "#     param_name=\"n_estimators\", param_range=trees, cv=3)\n",
        "\n",
        "# fig, ax = plt.subplots()\n",
        "# ax.plot(trees, train_scores.mean(axis=1), '.-k', label='Training')\n",
        "# ax.plot(trees, valid_scores.mean(axis=1), '.:b', label='Validation')\n",
        "# ax.set_xlabel('n_estimators')\n",
        "# ax.set_ylabel('Accuracy')\n",
        "# ax.set_title('Random Forest Accuracy vs n_estimators')\n",
        "# ax.legend()"
      ],
      "metadata": {
        "id": "KW577inHBFuN"
      },
      "execution_count": null,
      "outputs": []
    },
    {
      "cell_type": "markdown",
      "source": [
        "155 to 160 has the best"
      ],
      "metadata": {
        "id": "kqi89Og4NvCV"
      }
    },
    {
      "cell_type": "code",
      "source": [
        "from sklearn.model_selection import validation_curve\n",
        "from sklearn.metrics import accuracy_score\n",
        "from sklearn.ensemble import RandomForestClassifier\n",
        "\n",
        "\n",
        "# trees = np.arange(155, 160)\n",
        "\n",
        "# train_scores, valid_scores = validation_curve(\n",
        "#     RandomForestClassifier(), Xtrain, ytrain,\n",
        "#     param_name=\"n_estimators\", param_range=trees, cv=3)\n",
        "\n",
        "# fig, ax = plt.subplots()\n",
        "# ax.plot(trees, train_scores.mean(axis=1), '.-k', label='Training')\n",
        "# ax.plot(trees, valid_scores.mean(axis=1), '.:b', label='Validation')\n",
        "# ax.set_xlabel('n_estimators')\n",
        "# ax.set_ylabel('Accuracy')\n",
        "# ax.set_title('Random Forest Accuracy vs n_estimators')\n",
        "# ax.legend()"
      ],
      "metadata": {
        "id": "sT1syqADNjxw"
      },
      "execution_count": null,
      "outputs": []
    },
    {
      "cell_type": "markdown",
      "source": [
        "156 has the best"
      ],
      "metadata": {
        "id": "_Ofkd3w5N5_E"
      }
    },
    {
      "cell_type": "code",
      "source": [
        "model = RandomForestClassifier(n_estimators=156, random_state=5)\n",
        "model.fit(Xtrain, ytrain)\n",
        "ypred = model.predict(Xtest)\n",
        "\n",
        "accuracy = accuracy_score(ytest, ypred)\n",
        "print(accuracy)"
      ],
      "metadata": {
        "colab": {
          "base_uri": "https://localhost:8080/"
        },
        "id": "_PzbQJ1QN2Wt",
        "outputId": "929abe96-1747-4418-c05c-c6f8f7c75dac"
      },
      "execution_count": null,
      "outputs": [
        {
          "output_type": "stream",
          "name": "stdout",
          "text": [
            "0.744\n"
          ]
        }
      ]
    },
    {
      "cell_type": "code",
      "source": [
        "from sklearn.metrics import confusion_matrix\n",
        "\n",
        "labels = ytrain.unique()\n",
        "cm = confusion_matrix(ytest, ypred, labels=labels)\n",
        "sns.heatmap(cm, square=True, annot=True, fmt='d', cbar=True,\n",
        "                    cmap=\"rainbow_r\",\n",
        "                    xticklabels=labels,\n",
        "                    yticklabels=labels)\n",
        "\n",
        "plt.xlabel('Predicted Label');\n",
        "plt.ylabel('True Label')\n",
        "plt.title('Confusion Matrix')\n",
        "plt.show()"
      ],
      "metadata": {
        "colab": {
          "base_uri": "https://localhost:8080/",
          "height": 472
        },
        "id": "RB7iYu5vN79t",
        "outputId": "c6264fd6-201c-4279-e7f1-e297901ea7c2"
      },
      "execution_count": null,
      "outputs": [
        {
          "output_type": "display_data",
          "data": {
            "text/plain": [
              "<Figure size 640x480 with 2 Axes>"
            ],
            "image/png": "[encoded data removed]"
          },
          "metadata": {}
        }
      ]
    },
    {
      "cell_type": "markdown",
      "source": [
        "# 2 XGB Classifier with GridSearch"
      ],
      "metadata": {
        "id": "1tzqmEvaOWDp"
      }
    },
    {
      "cell_type": "code",
      "source": [
        "ord_map = {\n",
        "    'Cider': 0,\n",
        "    'Cocoa': 1,\n",
        "    'Coffee': 2,\n",
        "    'Tea': 3,\n",
        "}\n",
        "y = y.map(ord_map)\n",
        "Xtrain, Xtest, ytrain, ytest = train_test_split(X, y, test_size=0.5, random_state=10)"
      ],
      "metadata": {
        "id": "N6nN_pmMPmOw"
      },
      "execution_count": null,
      "outputs": []
    },
    {
      "cell_type": "code",
      "source": [
        "X.head()"
      ],
      "metadata": {
        "colab": {
          "base_uri": "https://localhost:8080/",
          "height": 206
        },
        "id": "Tqte5LMHeIDT",
        "outputId": "2740de09-901a-4dd4-cb8a-50c7b9a7eb6f"
      },
      "execution_count": null,
      "outputs": [
        {
          "output_type": "execute_result",
          "data": {
            "text/plain": [
              "   Pronoun  Weight  ZipCode  SqFt       Water  Shoes  Commute  NumKids  \\\n",
              "0        1  176.35     6861  2181   81.300000      7    40.81      2.0   \n",
              "1        2  194.64     8161  2272   82.135302      5    23.48      2.0   \n",
              "2        1  195.02      221  2029   21.920000     14    44.74      1.0   \n",
              "3        3  153.16      221  2592  153.920000      2    24.76      0.0   \n",
              "4        3  151.59     7770  1069   84.859533     10    43.95      2.0   \n",
              "\n",
              "   Exercise  Job  Age  Dog  Cat  Fish  Hamster  Lizard  pet_counts  \n",
              "0         1    9   52    0    0     1        0       0           1  \n",
              "1         1   10   24    0    1     0        0       0           2  \n",
              "2         4    7   66    1    0     1        0       0           2  \n",
              "3         4    4   18    1    0     0        0       0           2  \n",
              "4         3    4   87    0    0     0        0       0           1  "
            ],
            "text/html": [
              "\n",
              "  <div id=\"df-73816ed7-6d47-4390-b3ee-921b74e057db\" class=\"colab-df-container\">\n",
              "    <div>\n",
              "<style scoped>\n",
              "    .dataframe tbody tr th:only-of-type {\n",
              "        vertical-align: middle;\n",
              "    }\n",
              "\n",
              "    .dataframe tbody tr th {\n",
              "        vertical-align: top;\n",
              "    }\n",
              "\n",
              "    .dataframe thead th {\n",
              "        text-align: right;\n",
              "    }\n",
              "</style>\n",
              "<table border=\"1\" class=\"dataframe\">\n",
              "  <thead>\n",
              "    <tr style=\"text-align: right;\">\n",
              "      <th></th>\n",
              "      <th>Pronoun</th>\n",
              "      <th>Weight</th>\n",
              "      <th>ZipCode</th>\n",
              "      <th>SqFt</th>\n",
              "      <th>Water</th>\n",
              "      <th>Shoes</th>\n",
              "      <th>Commute</th>\n",
              "      <th>NumKids</th>\n",
              "      <th>Exercise</th>\n",
              "      <th>Job</th>\n",
              "      <th>Age</th>\n",
              "      <th>Dog</th>\n",
              "      <th>Cat</th>\n",
              "      <th>Fish</th>\n",
              "      <th>Hamster</th>\n",
              "      <th>Lizard</th>\n",
              "      <th>pet_counts</th>\n",
              "    </tr>\n",
              "  </thead>\n",
              "  <tbody>\n",
              "    <tr>\n",
              "      <th>0</th>\n",
              "      <td>1</td>\n",
              "      <td>176.35</td>\n",
              "      <td>6861</td>\n",
              "      <td>2181</td>\n",
              "      <td>81.300000</td>\n",
              "      <td>7</td>\n",
              "      <td>40.81</td>\n",
              "      <td>2.0</td>\n",
              "      <td>1</td>\n",
              "      <td>9</td>\n",
              "      <td>52</td>\n",
              "      <td>0</td>\n",
              "      <td>0</td>\n",
              "      <td>1</td>\n",
              "      <td>0</td>\n",
              "      <td>0</td>\n",
              "      <td>1</td>\n",
              "    </tr>\n",
              "    <tr>\n",
              "      <th>1</th>\n",
              "      <td>2</td>\n",
              "      <td>194.64</td>\n",
              "      <td>8161</td>\n",
              "      <td>2272</td>\n",
              "      <td>82.135302</td>\n",
              "      <td>5</td>\n",
              "      <td>23.48</td>\n",
              "      <td>2.0</td>\n",
              "      <td>1</td>\n",
              "      <td>10</td>\n",
              "      <td>24</td>\n",
              "      <td>0</td>\n",
              "      <td>1</td>\n",
              "      <td>0</td>\n",
              "      <td>0</td>\n",
              "      <td>0</td>\n",
              "      <td>2</td>\n",
              "    </tr>\n",
              "    <tr>\n",
              "      <th>2</th>\n",
              "      <td>1</td>\n",
              "      <td>195.02</td>\n",
              "      <td>221</td>\n",
              "      <td>2029</td>\n",
              "      <td>21.920000</td>\n",
              "      <td>14</td>\n",
              "      <td>44.74</td>\n",
              "      <td>1.0</td>\n",
              "      <td>4</td>\n",
              "      <td>7</td>\n",
              "      <td>66</td>\n",
              "      <td>1</td>\n",
              "      <td>0</td>\n",
              "      <td>1</td>\n",
              "      <td>0</td>\n",
              "      <td>0</td>\n",
              "      <td>2</td>\n",
              "    </tr>\n",
              "    <tr>\n",
              "      <th>3</th>\n",
              "      <td>3</td>\n",
              "      <td>153.16</td>\n",
              "      <td>221</td>\n",
              "      <td>2592</td>\n",
              "      <td>153.920000</td>\n",
              "      <td>2</td>\n",
              "      <td>24.76</td>\n",
              "      <td>0.0</td>\n",
              "      <td>4</td>\n",
              "      <td>4</td>\n",
              "      <td>18</td>\n",
              "      <td>1</td>\n",
              "      <td>0</td>\n",
              "      <td>0</td>\n",
              "      <td>0</td>\n",
              "      <td>0</td>\n",
              "      <td>2</td>\n",
              "    </tr>\n",
              "    <tr>\n",
              "      <th>4</th>\n",
              "      <td>3</td>\n",
              "      <td>151.59</td>\n",
              "      <td>7770</td>\n",
              "      <td>1069</td>\n",
              "      <td>84.859533</td>\n",
              "      <td>10</td>\n",
              "      <td>43.95</td>\n",
              "      <td>2.0</td>\n",
              "      <td>3</td>\n",
              "      <td>4</td>\n",
              "      <td>87</td>\n",
              "      <td>0</td>\n",
              "      <td>0</td>\n",
              "      <td>0</td>\n",
              "      <td>0</td>\n",
              "      <td>0</td>\n",
              "      <td>1</td>\n",
              "    </tr>\n",
              "  </tbody>\n",
              "</table>\n",
              "</div>\n",
              "    <div class=\"colab-df-buttons\">\n",
              "\n",
              "  <div class=\"colab-df-container\">\n",
              "    <button class=\"colab-df-convert\" onclick=\"convertToInteractive('df-73816ed7-6d47-4390-b3ee-921b74e057db')\"\n",
              "            title=\"Convert this dataframe to an interactive table.\"\n",
              "            style=\"display:none;\">\n",
              "\n",
              "  <svg xmlns=\"http://www.w3.org/2000/svg\" height=\"24px\" viewBox=\"0 -960 960 960\">\n",
              "    <path d=\"M120-120v-720h720v720H120Zm60-500h600v-160H180v160Zm220 220h160v-160H400v160Zm0 220h160v-160H400v160ZM180-400h160v-160H180v160Zm440 0h160v-160H620v160ZM180-180h160v-160H180v160Zm440 0h160v-160H620v160Z\"/>\n",
              "  </svg>\n",
              "    </button>\n",
              "\n",
              "  <style>\n",
              "    .colab-df-container {\n",
              "      display:flex;\n",
              "      gap: 12px;\n",
              "    }\n",
              "\n",
              "    .colab-df-convert {\n",
              "      background-color: #E8F0FE;\n",
              "      border: none;\n",
              "      border-radius: 50%;\n",
              "      cursor: pointer;\n",
              "      display: none;\n",
              "      fill: #1967D2;\n",
              "      height: 32px;\n",
              "      padding: 0 0 0 0;\n",
              "      width: 32px;\n",
              "    }\n",
              "\n",
              "    .colab-df-convert:hover {\n",
              "      background-color: #E2EBFA;\n",
              "      box-shadow: 0px 1px 2px rgba(60, 64, 67, 0.3), 0px 1px 3px 1px rgba(60, 64, 67, 0.15);\n",
              "      fill: #174EA6;\n",
              "    }\n",
              "\n",
              "    .colab-df-buttons div {\n",
              "      margin-bottom: 4px;\n",
              "    }\n",
              "\n",
              "    [theme=dark] .colab-df-convert {\n",
              "      background-color: #3B4455;\n",
              "      fill: #D2E3FC;\n",
              "    }\n",
              "\n",
              "    [theme=dark] .colab-df-convert:hover {\n",
              "      background-color: #434B5C;\n",
              "      box-shadow: 0px 1px 3px 1px rgba(0, 0, 0, 0.15);\n",
              "      filter: drop-shadow(0px 1px 2px rgba(0, 0, 0, 0.3));\n",
              "      fill: #FFFFFF;\n",
              "    }\n",
              "  </style>\n",
              "\n",
              "    <script>\n",
              "      const buttonEl =\n",
              "        document.querySelector('#df-73816ed7-6d47-4390-b3ee-921b74e057db button.colab-df-convert');\n",
              "      buttonEl.style.display =\n",
              "        google.colab.kernel.accessAllowed ? 'block' : 'none';\n",
              "\n",
              "      async function convertToInteractive(key) {\n",
              "        const element = document.querySelector('#df-73816ed7-6d47-4390-b3ee-921b74e057db');\n",
              "        const dataTable =\n",
              "          await google.colab.kernel.invokeFunction('convertToInteractive',\n",
              "                                                    [key], {});\n",
              "        if (!dataTable) return;\n",
              "\n",
              "        const docLinkHtml = 'Like what you see? Visit the ' +\n",
              "          '<a target=\"_blank\" href=https://colab.research.google.com/notebooks/data_table.ipynb>data table notebook</a>'\n",
              "          + ' to learn more about interactive tables.';\n",
              "        element.innerHTML = '';\n",
              "        dataTable['output_type'] = 'display_data';\n",
              "        await google.colab.output.renderOutput(dataTable, element);\n",
              "        const docLink = document.createElement('div');\n",
              "        docLink.innerHTML = docLinkHtml;\n",
              "        element.appendChild(docLink);\n",
              "      }\n",
              "    </script>\n",
              "  </div>\n",
              "\n",
              "\n",
              "<div id=\"df-f5c107d4-11d0-4e0d-b71b-22642e384cd9\">\n",
              "  <button class=\"colab-df-quickchart\" onclick=\"quickchart('df-f5c107d4-11d0-4e0d-b71b-22642e384cd9')\"\n",
              "            title=\"Suggest charts\"\n",
              "            style=\"display:none;\">\n",
              "\n",
              "<svg xmlns=\"http://www.w3.org/2000/svg\" height=\"24px\"viewBox=\"0 0 24 24\"\n",
              "     width=\"24px\">\n",
              "    <g>\n",
              "        <path d=\"M19 3H5c-1.1 0-2 .9-2 2v14c0 1.1.9 2 2 2h14c1.1 0 2-.9 2-2V5c0-1.1-.9-2-2-2zM9 17H7v-7h2v7zm4 0h-2V7h2v10zm4 0h-2v-4h2v4z\"/>\n",
              "    </g>\n",
              "</svg>\n",
              "  </button>\n",
              "\n",
              "<style>\n",
              "  .colab-df-quickchart {\n",
              "      --bg-color: #E8F0FE;\n",
              "      --fill-color: #1967D2;\n",
              "      --hover-bg-color: #E2EBFA;\n",
              "      --hover-fill-color: #174EA6;\n",
              "      --disabled-fill-color: #AAA;\n",
              "      --disabled-bg-color: #DDD;\n",
              "  }\n",
              "\n",
              "  [theme=dark] .colab-df-quickchart {\n",
              "      --bg-color: #3B4455;\n",
              "      --fill-color: #D2E3FC;\n",
              "      --hover-bg-color: #434B5C;\n",
              "      --hover-fill-color: #FFFFFF;\n",
              "      --disabled-bg-color: #3B4455;\n",
              "      --disabled-fill-color: #666;\n",
              "  }\n",
              "\n",
              "  .colab-df-quickchart {\n",
              "    background-color: var(--bg-color);\n",
              "    border: none;\n",
              "    border-radius: 50%;\n",
              "    cursor: pointer;\n",
              "    display: none;\n",
              "    fill: var(--fill-color);\n",
              "    height: 32px;\n",
              "    padding: 0;\n",
              "    width: 32px;\n",
              "  }\n",
              "\n",
              "  .colab-df-quickchart:hover {\n",
              "    background-color: var(--hover-bg-color);\n",
              "    box-shadow: 0 1px 2px rgba(60, 64, 67, 0.3), 0 1px 3px 1px rgba(60, 64, 67, 0.15);\n",
              "    fill: var(--button-hover-fill-color);\n",
              "  }\n",
              "\n",
              "  .colab-df-quickchart-complete:disabled,\n",
              "  .colab-df-quickchart-complete:disabled:hover {\n",
              "    background-color: var(--disabled-bg-color);\n",
              "    fill: var(--disabled-fill-color);\n",
              "    box-shadow: none;\n",
              "  }\n",
              "\n",
              "  .colab-df-spinner {\n",
              "    border: 2px solid var(--fill-color);\n",
              "    border-color: transparent;\n",
              "    border-bottom-color: var(--fill-color);\n",
              "    animation:\n",
              "      spin 1s steps(1) infinite;\n",
              "  }\n",
              "\n",
              "  @keyframes spin {\n",
              "    0% {\n",
              "      border-color: transparent;\n",
              "      border-bottom-color: var(--fill-color);\n",
              "      border-left-color: var(--fill-color);\n",
              "    }\n",
              "    20% {\n",
              "      border-color: transparent;\n",
              "      border-left-color: var(--fill-color);\n",
              "      border-top-color: var(--fill-color);\n",
              "    }\n",
              "    30% {\n",
              "      border-color: transparent;\n",
              "      border-left-color: var(--fill-color);\n",
              "      border-top-color: var(--fill-color);\n",
              "      border-right-color: var(--fill-color);\n",
              "    }\n",
              "    40% {\n",
              "      border-color: transparent;\n",
              "      border-right-color: var(--fill-color);\n",
              "      border-top-color: var(--fill-color);\n",
              "    }\n",
              "    60% {\n",
              "      border-color: transparent;\n",
              "      border-right-color: var(--fill-color);\n",
              "    }\n",
              "    80% {\n",
              "      border-color: transparent;\n",
              "      border-right-color: var(--fill-color);\n",
              "      border-bottom-color: var(--fill-color);\n",
              "    }\n",
              "    90% {\n",
              "      border-color: transparent;\n",
              "      border-bottom-color: var(--fill-color);\n",
              "    }\n",
              "  }\n",
              "</style>\n",
              "\n",
              "  <script>\n",
              "    async function quickchart(key) {\n",
              "      const quickchartButtonEl =\n",
              "        document.querySelector('#' + key + ' button');\n",
              "      quickchartButtonEl.disabled = true;  // To prevent multiple clicks.\n",
              "      quickchartButtonEl.classList.add('colab-df-spinner');\n",
              "      try {\n",
              "        const charts = await google.colab.kernel.invokeFunction(\n",
              "            'suggestCharts', [key], {});\n",
              "      } catch (error) {\n",
              "        console.error('Error during call to suggestCharts:', error);\n",
              "      }\n",
              "      quickchartButtonEl.classList.remove('colab-df-spinner');\n",
              "      quickchartButtonEl.classList.add('colab-df-quickchart-complete');\n",
              "    }\n",
              "    (() => {\n",
              "      let quickchartButtonEl =\n",
              "        document.querySelector('#df-f5c107d4-11d0-4e0d-b71b-22642e384cd9 button');\n",
              "      quickchartButtonEl.style.display =\n",
              "        google.colab.kernel.accessAllowed ? 'block' : 'none';\n",
              "    })();\n",
              "  </script>\n",
              "</div>\n",
              "\n",
              "    </div>\n",
              "  </div>\n"
            ],
            "application/vnd.google.colaboratory.intrinsic+json": {
              "type": "dataframe",
              "variable_name": "X",
              "summary": "{\n  \"name\": \"X\",\n  \"rows\": 1500,\n  \"fields\": [\n    {\n      \"column\": \"Pronoun\",\n      \"properties\": {\n        \"dtype\": \"number\",\n        \"std\": 0,\n        \"min\": 1,\n        \"max\": 3,\n        \"num_unique_values\": 3,\n        \"samples\": [\n          1,\n          2,\n          3\n        ],\n        \"semantic_type\": \"\",\n        \"description\": \"\"\n      }\n    },\n    {\n      \"column\": \"Weight\",\n      \"properties\": {\n        \"dtype\": \"number\",\n        \"std\": 44.248954381473524,\n        \"min\": 130.14,\n        \"max\": 379.94,\n        \"num_unique_values\": 1382,\n        \"samples\": [\n          173.38,\n          144.01,\n          137.27\n        ],\n        \"semantic_type\": \"\",\n        \"description\": \"\"\n      }\n    },\n    {\n      \"column\": \"ZipCode\",\n      \"properties\": {\n        \"dtype\": \"number\",\n        \"std\": 3123,\n        \"min\": 221,\n        \"max\": 8161,\n        \"num_unique_values\": 10,\n        \"samples\": [\n          445,\n          8161,\n          4532\n        ],\n        \"semantic_type\": \"\",\n        \"description\": \"\"\n      }\n    },\n    {\n      \"column\": \"SqFt\",\n      \"properties\": {\n        \"dtype\": \"number\",\n        \"std\": 612,\n        \"min\": -1000,\n        \"max\": 6494,\n        \"num_unique_values\": 970,\n        \"samples\": [\n          1302,\n          1594,\n          1650\n        ],\n        \"semantic_type\": \"\",\n        \"description\": \"\"\n      }\n    },\n    {\n      \"column\": \"Water\",\n      \"properties\": {\n        \"dtype\": \"number\",\n        \"std\": 39.58889005622133,\n        \"min\": -44.21,\n        \"max\": 215.79,\n        \"num_unique_values\": 1414,\n        \"samples\": [\n          46.32,\n          69.57,\n          93.05\n        ],\n        \"semantic_type\": \"\",\n        \"description\": \"\"\n      }\n    },\n    {\n      \"column\": \"Shoes\",\n      \"properties\": {\n        \"dtype\": \"number\",\n        \"std\": 3,\n        \"min\": 0,\n        \"max\": 22,\n        \"num_unique_values\": 22,\n        \"samples\": [\n          7,\n          13,\n          12\n        ],\n        \"semantic_type\": \"\",\n        \"description\": \"\"\n      }\n    },\n    {\n      \"column\": \"Commute\",\n      \"properties\": {\n        \"dtype\": \"number\",\n        \"std\": 18.249749851885454,\n        \"min\": 0.0,\n        \"max\": 110.72,\n        \"num_unique_values\": 1311,\n        \"samples\": [\n          29.01,\n          18.08,\n          14.56\n        ],\n        \"semantic_type\": \"\",\n        \"description\": \"\"\n      }\n    },\n    {\n      \"column\": \"NumKids\",\n      \"properties\": {\n        \"dtype\": \"number\",\n        \"std\": 1.3281594635419172,\n        \"min\": 0.0,\n        \"max\": 6.0,\n        \"num_unique_values\": 7,\n        \"samples\": [\n          2.0,\n          1.0,\n          6.0\n        ],\n        \"semantic_type\": \"\",\n        \"description\": \"\"\n      }\n    },\n    {\n      \"column\": \"Exercise\",\n      \"properties\": {\n        \"dtype\": \"number\",\n        \"std\": 1,\n        \"min\": 1,\n        \"max\": 4,\n        \"num_unique_values\": 4,\n        \"samples\": [\n          4,\n          2,\n          1\n        ],\n        \"semantic_type\": \"\",\n        \"description\": \"\"\n      }\n    },\n    {\n      \"column\": \"Job\",\n      \"properties\": {\n        \"dtype\": \"number\",\n        \"std\": 3,\n        \"min\": 0,\n        \"max\": 12,\n        \"num_unique_values\": 13,\n        \"samples\": [\n          5,\n          2,\n          9\n        ],\n        \"semantic_type\": \"\",\n        \"description\": \"\"\n      }\n    },\n    {\n      \"column\": \"Age\",\n      \"properties\": {\n        \"dtype\": \"int32\",\n        \"num_unique_values\": 83,\n        \"samples\": [\n          56,\n          52,\n          39\n        ],\n        \"semantic_type\": \"\",\n        \"description\": \"\"\n      }\n    },\n    {\n      \"column\": \"Dog\",\n      \"properties\": {\n        \"dtype\": \"number\",\n        \"std\": 0,\n        \"min\": 0,\n        \"max\": 1,\n        \"num_unique_values\": 2,\n        \"samples\": [\n          1,\n          0\n        ],\n        \"semantic_type\": \"\",\n        \"description\": \"\"\n      }\n    },\n    {\n      \"column\": \"Cat\",\n      \"properties\": {\n        \"dtype\": \"number\",\n        \"std\": 0,\n        \"min\": 0,\n        \"max\": 1,\n        \"num_unique_values\": 2,\n        \"samples\": [\n          1,\n          0\n        ],\n        \"semantic_type\": \"\",\n        \"description\": \"\"\n      }\n    },\n    {\n      \"column\": \"Fish\",\n      \"properties\": {\n        \"dtype\": \"number\",\n        \"std\": 0,\n        \"min\": 0,\n        \"max\": 1,\n        \"num_unique_values\": 2,\n        \"samples\": [\n          0,\n          1\n        ],\n        \"semantic_type\": \"\",\n        \"description\": \"\"\n      }\n    },\n    {\n      \"column\": \"Hamster\",\n      \"properties\": {\n        \"dtype\": \"number\",\n        \"std\": 0,\n        \"min\": 0,\n        \"max\": 1,\n        \"num_unique_values\": 2,\n        \"samples\": [\n          1,\n          0\n        ],\n        \"semantic_type\": \"\",\n        \"description\": \"\"\n      }\n    },\n    {\n      \"column\": \"Lizard\",\n      \"properties\": {\n        \"dtype\": \"number\",\n        \"std\": 0,\n        \"min\": 0,\n        \"max\": 1,\n        \"num_unique_values\": 2,\n        \"samples\": [\n          1,\n          0\n        ],\n        \"semantic_type\": \"\",\n        \"description\": \"\"\n      }\n    },\n    {\n      \"column\": \"pet_counts\",\n      \"properties\": {\n        \"dtype\": \"number\",\n        \"std\": 1,\n        \"min\": 1,\n        \"max\": 6,\n        \"num_unique_values\": 6,\n        \"samples\": [\n          1,\n          2\n        ],\n        \"semantic_type\": \"\",\n        \"description\": \"\"\n      }\n    }\n  ]\n}"
            }
          },
          "metadata": {},
          "execution_count": 377
        }
      ]
    },
    {
      "cell_type": "markdown",
      "source": [
        "Grid search for best parameters"
      ],
      "metadata": {
        "id": "Gj5T9o01SfSQ"
      }
    },
    {
      "cell_type": "code",
      "source": [
        "from sklearn.model_selection import GridSearchCV\n",
        "from xgboost import XGBClassifier\n",
        "\n",
        "\n",
        "# param_grid = {'n_estimators': np.arange(1, 300, 30),\n",
        "#               'max_depth': np.arange(1, 50, 10),\n",
        "#               'learning_rate': np.arange(0.1, 1.2, .2)}\n",
        "\n",
        "\n",
        "# grid = GridSearchCV(XGBClassifier(), param_grid, cv=5, verbose=1)\n",
        "\n",
        "# grid.fit(Xtrain, ytrain)\n",
        "# took 6 minutes to run"
      ],
      "metadata": {
        "id": "-NOpp-VAOH74"
      },
      "execution_count": null,
      "outputs": []
    },
    {
      "cell_type": "code",
      "source": [
        "# grid.best_params_"
      ],
      "metadata": {
        "id": "SwQIgZjKPO6i"
      },
      "execution_count": null,
      "outputs": []
    },
    {
      "cell_type": "code",
      "source": [
        "model = XGBClassifier(n_estimators=121, max_depth=4, learning_rate=0.5000000000000001)\n",
        "model.fit(Xtrain, ytrain)\n",
        "\n",
        "# make predictions for test data\n",
        "ypred = model.predict(Xtest)\n",
        "\n",
        "# evaluate predictions\n",
        "accuracy = accuracy_score(ytest, ypred)\n",
        "print(f'Accuracy: {accuracy*100:.2f}%')"
      ],
      "metadata": {
        "colab": {
          "base_uri": "https://localhost:8080/"
        },
        "id": "cCtP0xLqRmB1",
        "outputId": "784b4852-e02c-4912-fe2e-e85c57300fd8"
      },
      "execution_count": null,
      "outputs": [
        {
          "output_type": "stream",
          "name": "stdout",
          "text": [
            "Accuracy: 77.20%\n"
          ]
        }
      ]
    },
    {
      "cell_type": "code",
      "source": [
        "labels = labels = np.unique(ytrain)\n",
        "\n",
        "cm = confusion_matrix(ytest, ypred, labels=labels)\n",
        "sns.heatmap(cm, square=True, annot=True, fmt='d', cbar=True,\n",
        "                    cmap=\"rainbow_r\",\n",
        "                    xticklabels=labels,\n",
        "                    yticklabels=labels)\n",
        "\n",
        "plt.xlabel('Predicted Label');\n",
        "plt.ylabel('True Label')\n",
        "plt.title('Confusion Matrix')\n",
        "plt.show()"
      ],
      "metadata": {
        "colab": {
          "base_uri": "https://localhost:8080/",
          "height": 472
        },
        "id": "q5G2sG_VRtXe",
        "outputId": "04c4675b-8953-4c7a-eaed-b8f8e51910e8"
      },
      "execution_count": null,
      "outputs": [
        {
          "output_type": "display_data",
          "data": {
            "text/plain": [
              "<Figure size 640x480 with 2 Axes>"
            ],
            "image/png": "[encoded data removed]"
          },
          "metadata": {}
        }
      ]
    },
    {
      "cell_type": "code",
      "source": [
        "feat_imp = pd.DataFrame({'Feature': X.columns,\n",
        "                      'Importance': model.feature_importances_})\n",
        "\n",
        "feat_imp = feat_imp.sort_values(by='Importance', ascending=False)\n",
        "\n",
        "fig, ax = plt.subplots()\n",
        "\n",
        "# horizontal bar charts can make text easier to read\n",
        "ax.barh(feat_imp['Feature'], feat_imp['Importance'])\n",
        "ax.set_xlabel('Importance')\n",
        "ax.set_title('Feature Importance');"
      ],
      "metadata": {
        "colab": {
          "base_uri": "https://localhost:8080/",
          "height": 472
        },
        "id": "06ChTOqqSkVt",
        "outputId": "b50a4a18-73a0-443d-ac32-f33d774203ea"
      },
      "execution_count": null,
      "outputs": [
        {
          "output_type": "display_data",
          "data": {
            "text/plain": [
              "<Figure size 640x480 with 1 Axes>"
            ],
            "image/png": "[encoded data removed]"
          },
          "metadata": {}
        }
      ]
    },
    {
      "cell_type": "markdown",
      "source": [
        "Perform another grid search with lower max depth"
      ],
      "metadata": {
        "id": "XRk8TITTSoNU"
      }
    },
    {
      "cell_type": "code",
      "source": [
        "from sklearn.model_selection import GridSearchCV\n",
        "from xgboost import XGBClassifier\n",
        "\n",
        "\n",
        "# param_grid = {'n_estimators': np.arange(1, 300, 30),\n",
        "#               'max_depth': np.arange(1, 10, 2),\n",
        "#               'learning_rate': np.arange(0.1, 1.2, .2)}\n",
        "\n",
        "\n",
        "# grid = GridSearchCV(XGBClassifier(), param_grid, cv=5, verbose=1)\n",
        "\n",
        "# grid.fit(Xtrain, ytrain)"
      ],
      "metadata": {
        "id": "F-VgbGcVSyXI"
      },
      "execution_count": null,
      "outputs": []
    },
    {
      "cell_type": "code",
      "source": [
        "# grid.best_params_"
      ],
      "metadata": {
        "id": "8c4W9xRxU390"
      },
      "execution_count": null,
      "outputs": []
    },
    {
      "cell_type": "markdown",
      "source": [
        "Chnaged them up a bit manually and got better"
      ],
      "metadata": {
        "id": "meR1U54pVWrD"
      }
    },
    {
      "cell_type": "code",
      "source": [
        "model = XGBClassifier(n_estimators=31, max_depth=5, learning_rate=0.7000000000000001)\n",
        "model.fit(Xtrain, ytrain)\n",
        "\n",
        "# make predictions for test data\n",
        "ypred = model.predict(Xtest)\n",
        "\n",
        "# evaluate predictions\n",
        "accuracy = accuracy_score(ytest, ypred)\n",
        "print(f'Accuracy: {accuracy*100:.2f}%')"
      ],
      "metadata": {
        "colab": {
          "base_uri": "https://localhost:8080/"
        },
        "id": "Rd7yfUqTU58g",
        "outputId": "b72c5548-3339-44b3-ade1-d759ff6ba6db"
      },
      "execution_count": null,
      "outputs": [
        {
          "output_type": "stream",
          "name": "stdout",
          "text": [
            "Accuracy: 76.67%\n"
          ]
        }
      ]
    },
    {
      "cell_type": "markdown",
      "source": [
        "Another grid search with different parameters."
      ],
      "metadata": {
        "id": "brPq66v_S3A-"
      }
    },
    {
      "cell_type": "code",
      "source": [
        "from sklearn.model_selection import GridSearchCV\n",
        "from xgboost import XGBClassifier\n",
        "\n",
        "\n",
        "# param_grid = {'n_estimators': np.arange(1, 50, 2),\n",
        "#               'max_depth': np.arange(1, 15, 2),\n",
        "#               'learning_rate': np.arange(0.1, 1.2, 0.1)}\n",
        "\n",
        "\n",
        "# grid = GridSearchCV(XGBClassifier(), param_grid, cv=3, verbose=1)\n",
        "\n",
        "# grid.fit(Xtrain, ytrain)"
      ],
      "metadata": {
        "id": "3bD3SPHNp7ww"
      },
      "execution_count": null,
      "outputs": []
    },
    {
      "cell_type": "code",
      "source": [
        "# grid.best_params_"
      ],
      "metadata": {
        "id": "CxR9Fc6CsaeE"
      },
      "execution_count": null,
      "outputs": []
    },
    {
      "cell_type": "code",
      "source": [
        "# grid.best_score_"
      ],
      "metadata": {
        "id": "wjXg6dnHsnyy"
      },
      "execution_count": null,
      "outputs": []
    },
    {
      "cell_type": "code",
      "source": [
        "model = XGBClassifier(n_estimators=39, max_depth=5, learning_rate=0.8)\n",
        "model.fit(Xtrain, ytrain)\n",
        "\n",
        "# make predictions for test data\n",
        "ypred = model.predict(Xtest)\n",
        "\n",
        "# evaluate predictions\n",
        "accuracy = accuracy_score(ytest, ypred)\n",
        "print(f'Accuracy: {accuracy*100:.2f}%')"
      ],
      "metadata": {
        "colab": {
          "base_uri": "https://localhost:8080/"
        },
        "id": "fbPIi-4gsh-S",
        "outputId": "d7a65643-4305-4cf2-f69f-25e08860ecf7"
      },
      "execution_count": null,
      "outputs": [
        {
          "output_type": "stream",
          "name": "stdout",
          "text": [
            "Accuracy: 78.00%\n"
          ]
        }
      ]
    },
    {
      "cell_type": "markdown",
      "source": [
        "I spent most of my time trying to maximize my XGB classifier with not much real success. It was frustrating running my grid search and then being able to manually tweak it to make it better since I was only searching through a limited amount of combinations due to compute time. I tried different tactics such as getting the number of a pet rather than if there is one or not, changing the columns included, and experimenting with cross features but it was never clear if it was working well or not. My Random classifier was solid but I think lacked the potential of my XGB classifier."
      ],
      "metadata": {
        "id": "a7u_GzvkTgE1"
      }
    }
  ]
}